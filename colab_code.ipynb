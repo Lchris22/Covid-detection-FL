{
  "nbformat": 4,
  "nbformat_minor": 0,
  "metadata": {
    "colab": {
      "provenance": [],
      "mount_file_id": "1Zu0p8Xs_vIbEO2ZQgis7Td1bd6EpetlL",
      "authorship_tag": "ABX9TyO9Qd9B+tqr+vxvTPYhsy/E",
      "include_colab_link": true
    },
    "kernelspec": {
      "name": "python3",
      "display_name": "Python 3"
    },
    "language_info": {
      "name": "python"
    }
  },
  "cells": [
    {
      "cell_type": "markdown",
      "metadata": {
        "id": "view-in-github",
        "colab_type": "text"
      },
      "source": [
        "<a href=\"https://colab.research.google.com/github/Lchris22/Covid-detection-FL/blob/colab/colab_code.ipynb\" target=\"_parent\"><img src=\"https://colab.research.google.com/assets/colab-badge.svg\" alt=\"Open In Colab\"/></a>"
      ]
    },
    {
      "cell_type": "code",
      "execution_count": null,
      "metadata": {
        "colab": {
          "base_uri": "https://localhost:8080/"
        },
        "id": "Jza5_QfzcV2j",
        "outputId": "ade3adce-6e83-4f88-dc71-b94b15e56747"
      },
      "outputs": [
        {
          "output_type": "stream",
          "name": "stdout",
          "text": [
            "\u001b[2K     \u001b[90m━━━━━━━━━━━━━━━━━━━━━━━━━━━━━━━━━━━━━━━\u001b[0m \u001b[32m157.2/157.2 kB\u001b[0m \u001b[31m3.7 MB/s\u001b[0m eta \u001b[36m0:00:00\u001b[0m\n",
            "\u001b[2K     \u001b[90m━━━━━━━━━━━━━━━━━━━━━━━━━━━━━━━━━━━━━━━━\u001b[0m \u001b[32m58.6/58.6 MB\u001b[0m \u001b[31m11.5 MB/s\u001b[0m eta \u001b[36m0:00:00\u001b[0m\n",
            "\u001b[2K     \u001b[90m━━━━━━━━━━━━━━━━━━━━━━━━━━━━━━━━━━━━━━━━\u001b[0m \u001b[32m8.7/8.7 MB\u001b[0m \u001b[31m40.2 MB/s\u001b[0m eta \u001b[36m0:00:00\u001b[0m\n",
            "\u001b[2K     \u001b[90m━━━━━━━━━━━━━━━━━━━━━━━━━━━━━━━━━━━━━━━━\u001b[0m \u001b[32m4.8/4.8 MB\u001b[0m \u001b[31m34.4 MB/s\u001b[0m eta \u001b[36m0:00:00\u001b[0m\n",
            "\u001b[2K     \u001b[90m━━━━━━━━━━━━━━━━━━━━━━━━━━━━━━━━━━━━━━━\u001b[0m \u001b[32m149.6/149.6 kB\u001b[0m \u001b[31m3.2 MB/s\u001b[0m eta \u001b[36m0:00:00\u001b[0m\n",
            "\u001b[2K     \u001b[90m━━━━━━━━━━━━━━━━━━━━━━━━━━━━━━━━━━━━━━━\u001b[0m \u001b[32m128.2/128.2 kB\u001b[0m \u001b[31m5.3 MB/s\u001b[0m eta \u001b[36m0:00:00\u001b[0m\n",
            "\u001b[2K     \u001b[90m━━━━━━━━━━━━━━━━━━━━━━━━━━━━━━━━━━━━━━━━\u001b[0m \u001b[32m3.0/3.0 MB\u001b[0m \u001b[31m33.5 MB/s\u001b[0m eta \u001b[36m0:00:00\u001b[0m\n",
            "\u001b[2K     \u001b[90m━━━━━━━━━━━━━━━━━━━━━━━━━━━━━━━━━━━━━━━━\u001b[0m \u001b[32m97.9/97.9 kB\u001b[0m \u001b[31m4.3 MB/s\u001b[0m eta \u001b[36m0:00:00\u001b[0m\n",
            "\u001b[?25h  Installing build dependencies ... \u001b[?25l\u001b[?25hdone\n",
            "  Getting requirements to build wheel ... \u001b[?25l\u001b[?25hdone\n",
            "  Preparing metadata (pyproject.toml) ... \u001b[?25l\u001b[?25hdone\n",
            "\u001b[2K     \u001b[90m━━━━━━━━━━━━━━━━━━━━━━━━━━━━━━━━━━━━━━━━\u001b[0m \u001b[32m1.0/1.0 MB\u001b[0m \u001b[31m48.8 MB/s\u001b[0m eta \u001b[36m0:00:00\u001b[0m\n",
            "\u001b[2K     \u001b[90m━━━━━━━━━━━━━━━━━━━━━━━━━━━━━━━━━━━━━━\u001b[0m \u001b[32m201.4/201.4 kB\u001b[0m \u001b[31m15.2 MB/s\u001b[0m eta \u001b[36m0:00:00\u001b[0m\n",
            "\u001b[2K     \u001b[90m━━━━━━━━━━━━━━━━━━━━━━━━━━━━━━━━━━━━━━\u001b[0m \u001b[32m268.8/268.8 kB\u001b[0m \u001b[31m22.5 MB/s\u001b[0m eta \u001b[36m0:00:00\u001b[0m\n",
            "\u001b[2K     \u001b[90m━━━━━━━━━━━━━━━━━━━━━━━━━━━━━━━━━━━━━━\u001b[0m \u001b[32m114.5/114.5 kB\u001b[0m \u001b[31m11.8 MB/s\u001b[0m eta \u001b[36m0:00:00\u001b[0m\n",
            "\u001b[2K     \u001b[90m━━━━━━━━━━━━━━━━━━━━━━━━━━━━━━━━━━━━━━━━\u001b[0m \u001b[32m58.4/58.4 kB\u001b[0m \u001b[31m6.8 MB/s\u001b[0m eta \u001b[36m0:00:00\u001b[0m\n",
            "\u001b[2K     \u001b[90m━━━━━━━━━━━━━━━━━━━━━━━━━━━━━━━━━━━━━━\u001b[0m \u001b[32m468.5/468.5 kB\u001b[0m \u001b[31m37.3 MB/s\u001b[0m eta \u001b[36m0:00:00\u001b[0m\n",
            "\u001b[?25h  Building wheel for gpustat (pyproject.toml) ... \u001b[?25l\u001b[?25hdone\n"
          ]
        }
      ],
      "source": [
        "!pip install -q flwr[\"simulation\"] tensorflow\n",
        "\n",
        "import math\n",
        "import os\n",
        "\n",
        "# Make TensorFlow logs less verbose\n",
        "os.environ[\"TF_CPP_MIN_LOG_LEVEL\"] = \"3\"\n",
        "\n",
        "import tensorflow as tf\n",
        "\n",
        "import flwr as fl\n"
      ]
    },
    {
      "cell_type": "code",
      "source": [
        "class FlowerClient(fl.client.NumPyClient):\n",
        "    def __init__(self, model, x_train, y_train, x_val, y_val) -> None:\n",
        "        self.model = model\n",
        "        self.x_train, self.y_train = x_train, y_train\n",
        "        self.x_val, self.y_val = x_val, y_val\n",
        "\n",
        "    def get_parameters(self, config):\n",
        "        return self.model.get_weights()\n",
        "\n",
        "    def fit(self, parameters, config):\n",
        "        self.model.set_weights(parameters)\n",
        "        r=self.model.fit(self.x_train, self.y_train, epochs=5, verbose=2)\n",
        "        hist = r.history\n",
        "        print(\"Fit history : \" ,hist)\n",
        "        return self.model.get_weights(), len(self.x_train), {}\n",
        "\n",
        "    def evaluate(self, parameters, config):\n",
        "        self.model.set_weights(parameters)\n",
        "        loss, acc = self.model.evaluate(self.x_val, self.y_val, verbose=2)\n",
        "        return loss, len(self.x_val), {\"accuracy\": acc}\n"
      ],
      "metadata": {
        "id": "zOFywCdVdC7_"
      },
      "execution_count": null,
      "outputs": []
    },
    {
      "cell_type": "code",
      "source": [
        "from keras.applications.vgg19 import VGG19\n",
        "from keras.layers import Dense, Flatten\n",
        "from keras.models import Model\n",
        "from keras.preprocessing.image import ImageDataGenerator\n",
        "\n",
        "CLIENT_1_DATA_DIR = \"/content/drive/MyDrive/dataset_split/client1\"\n",
        "CLIENT_2_DATA_DIR = \"/content/drive/MyDrive/dataset_split/client2\"\n",
        "\n",
        "# Load dataset for client 1\n",
        "train_dir1 = CLIENT_1_DATA_DIR+\"/train\"\n",
        "test_dir1 = CLIENT_1_DATA_DIR+\"/test\"\n",
        "\n",
        "train_dir2 = CLIENT_2_DATA_DIR+\"/train\"\n",
        "test_dir2 = CLIENT_2_DATA_DIR+\"/test\"\n",
        "\n",
        "def client_fn(cid: str) -> fl.client.Client:\n",
        "   # Load and compile Keras model\n",
        "    vgg = VGG19(weights='imagenet', include_top=False, input_shape=(224, 224, 3))\n",
        "    # Freeze first 10 layers\n",
        "    for layer in vgg.layers[:10]:\n",
        "        layer.trainable = False\n",
        "    x = vgg.output\n",
        "    x = Flatten()(x)\n",
        "    x = Dense(128, activation='relu')(x)\n",
        "    x = Dense(256, activation='relu')(x)\n",
        "    predictions = Dense(2, activation='softmax')(x)  # change number of classes to 2 for covid and normal\n",
        "    model = Model(inputs=vgg.input, outputs=predictions)\n",
        "    model.compile(optimizer='adam', loss='sparse_categorical_crossentropy', metrics=['accuracy'])\n",
        "\n",
        "     # Load training and validation data for client\n",
        "    if cid == \"0\":\n",
        "        train_dir = train_dir1\n",
        "        test_dir = test_dir1\n",
        "    elif cid == \"1\":\n",
        "        train_dir = train_dir2\n",
        "        test_dir = test_dir2\n",
        "    else:\n",
        "        raise ValueError(f\"Invalid client ID {cid}\")\n",
        "    print(\"----------------------------ID is \",cid,\"------------------------------------\")\n",
        "\n",
        "    train_datagen = ImageDataGenerator(rescale=1./255, shear_range=0.2, zoom_range=0.2, horizontal_flip=True)\n",
        "    test_datagen = ImageDataGenerator(rescale=1./255)\n",
        "\n",
        "    train_generator1 = train_datagen.flow_from_directory(train_dir, target_size=(224, 224), class_mode='sparse')\n",
        "    test_generator1 = test_datagen.flow_from_directory(test_dir, target_size=(224, 224), class_mode='sparse')\n",
        "\n",
        "    # Extract x_train1, y_train1, x_val1, y_val1 from train_generator1 and test_generator1\n",
        "    # using the `next()` function.\n",
        "    x_train1, y_train1 = next(train_generator1)\n",
        "    x_val1, y_val1 = next(test_generator1)\n",
        "\n",
        "    return FlowerClient(model, x_train1, y_train1, x_val1, y_val1)"
      ],
      "metadata": {
        "id": "4Sj48wxidJyn"
      },
      "execution_count": null,
      "outputs": []
    },
    {
      "cell_type": "code",
      "source": [
        "import numpy as np\n",
        "NUM_CLIENTS = 2\n",
        "\n",
        "class SaveModelStrategy(fl.server.strategy.FedAvg):\n",
        "    def aggregate_fit(\n",
        "        self,\n",
        "        rnd,\n",
        "        results,\n",
        "        failures\n",
        "    ):\n",
        "      aggregated_weights = super().aggregate_fit(rnd, results, failures)\n",
        "      if aggregated_weights is not None:\n",
        "          # Save aggregated_weights\n",
        "          print(f\"Saving round {rnd} aggregated_weights...\")\n",
        "          np.savez(f\"round-{rnd}-weights.npz\", *aggregated_weights)\n",
        "      return aggregated_weights\n",
        "\n",
        "strategy = SaveModelStrategy()\n",
        "\n",
        "# Start simulation\n",
        "fl.simulation.start_simulation(\n",
        "    client_fn=client_fn,\n",
        "    num_clients=NUM_CLIENTS,\n",
        "    config=fl.server.ServerConfig(num_rounds=20),\n",
        "    strategy=strategy,\n",
        ")"
      ],
      "metadata": {
        "colab": {
          "base_uri": "https://localhost:8080/"
        },
        "id": "RYBzKEl9dNd8",
        "outputId": "62caefa7-3e32-4559-c61c-616e4faa5692"
      },
      "execution_count": null,
      "outputs": [
        {
          "metadata": {
            "tags": null
          },
          "name": "stderr",
          "output_type": "stream",
          "text": [
            "INFO flwr 2023-04-28 10:49:19,524 | app.py:146 | Starting Flower simulation, config: ServerConfig(num_rounds=20, round_timeout=None)\n",
            "INFO:flwr:Starting Flower simulation, config: ServerConfig(num_rounds=20, round_timeout=None)\n",
            "2023-04-28 10:49:24,272\tINFO worker.py:1625 -- Started a local Ray instance.\n",
            "INFO flwr 2023-04-28 10:49:27,813 | app.py:180 | Flower VCE: Ray initialized with resources: {'object_store_memory': 3872972390.0, 'CPU': 2.0, 'node:172.28.0.12': 1.0, 'memory': 7745944782.0}\n",
            "INFO:flwr:Flower VCE: Ray initialized with resources: {'object_store_memory': 3872972390.0, 'CPU': 2.0, 'node:172.28.0.12': 1.0, 'memory': 7745944782.0}\n",
            "INFO flwr 2023-04-28 10:49:27,819 | server.py:86 | Initializing global parameters\n",
            "INFO:flwr:Initializing global parameters\n",
            "INFO flwr 2023-04-28 10:49:27,824 | server.py:273 | Requesting initial parameters from one random client\n",
            "INFO:flwr:Requesting initial parameters from one random client\n"
          ]
        },
        {
          "metadata": {
            "tags": null
          },
          "name": "stdout",
          "output_type": "stream",
          "text": [
            "\u001b[2m\u001b[36m(launch_and_get_parameters pid=3180)\u001b[0m ----------------------------ID is  1 ------------------------------------\n",
            "\u001b[2m\u001b[36m(launch_and_get_parameters pid=3180)\u001b[0m Found 3000 images belonging to 2 classes.\n",
            "\u001b[2m\u001b[36m(launch_and_get_parameters pid=3180)\u001b[0m Found 616 images belonging to 2 classes.\n"
          ]
        },
        {
          "metadata": {
            "tags": null
          },
          "name": "stderr",
          "output_type": "stream",
          "text": [
            "INFO flwr 2023-04-28 10:50:31,095 | server.py:277 | Received initial parameters from one random client\n",
            "INFO:flwr:Received initial parameters from one random client\n",
            "INFO flwr 2023-04-28 10:50:31,107 | server.py:88 | Evaluating initial parameters\n",
            "INFO:flwr:Evaluating initial parameters\n",
            "INFO flwr 2023-04-28 10:50:31,112 | server.py:101 | FL starting\n",
            "INFO:flwr:FL starting\n",
            "DEBUG flwr 2023-04-28 10:50:31,118 | server.py:218 | fit_round 1: strategy sampled 2 clients (out of 2)\n",
            "DEBUG:flwr:fit_round 1: strategy sampled 2 clients (out of 2)\n"
          ]
        },
        {
          "metadata": {
            "tags": null
          },
          "name": "stdout",
          "output_type": "stream",
          "text": [
            "\u001b[2m\u001b[36m(launch_and_fit pid=3180)\u001b[0m ----------------------------ID is  1 ------------------------------------\n",
            "\u001b[2m\u001b[36m(launch_and_fit pid=3180)\u001b[0m Found 3000 images belonging to 2 classes.\n",
            "\u001b[2m\u001b[36m(launch_and_fit pid=3180)\u001b[0m Found 616 images belonging to 2 classes.\n",
            "\u001b[2m\u001b[36m(launch_and_fit pid=3181)\u001b[0m ----------------------------ID is  0 ------------------------------------\n",
            "\u001b[2m\u001b[36m(launch_and_fit pid=3181)\u001b[0m Found 3000 images belonging to 2 classes.\n",
            "\u001b[2m\u001b[36m(launch_and_fit pid=3181)\u001b[0m Found 616 images belonging to 2 classes.\n",
            "\u001b[2m\u001b[36m(launch_and_fit pid=3180)\u001b[0m Epoch 1/5\n",
            "\u001b[2m\u001b[36m(launch_and_fit pid=3181)\u001b[0m Epoch 1/5\n",
            "\u001b[2m\u001b[36m(launch_and_fit pid=3180)\u001b[0m 1/1 - 102s - loss: 0.7185 - accuracy: 0.3750 - 102s/epoch - 102s/step\n",
            "\u001b[2m\u001b[36m(launch_and_fit pid=3180)\u001b[0m Epoch 2/5\n",
            "\u001b[2m\u001b[36m(launch_and_fit pid=3181)\u001b[0m 1/1 - 132s - loss: 0.7223 - accuracy: 0.3438 - 132s/epoch - 132s/step\n",
            "\u001b[2m\u001b[36m(launch_and_fit pid=3181)\u001b[0m Epoch 2/5\n",
            "\u001b[2m\u001b[36m(launch_and_fit pid=3180)\u001b[0m 1/1 - 124s - loss: 9.9824 - accuracy: 0.5625 - 124s/epoch - 124s/step\n",
            "\u001b[2m\u001b[36m(launch_and_fit pid=3180)\u001b[0m Epoch 3/5\n",
            "\u001b[2m\u001b[36m(launch_and_fit pid=3181)\u001b[0m Epoch 3/5\n",
            "\u001b[2m\u001b[36m(launch_and_fit pid=3181)\u001b[0m Epoch 3/5\n",
            "\u001b[2m\u001b[36m(launch_and_fit pid=3180)\u001b[0m 1/1 - 122s - loss: 0.6901 - accuracy: 0.5625 - 122s/epoch - 122s/step\n",
            "\u001b[2m\u001b[36m(launch_and_fit pid=3180)\u001b[0m Epoch 4/5\n",
            "\u001b[2m\u001b[36m(launch_and_fit pid=3181)\u001b[0m Epoch 4/5\n",
            "\u001b[2m\u001b[36m(launch_and_fit pid=3181)\u001b[0m Epoch 4/5\n",
            "\u001b[2m\u001b[36m(launch_and_fit pid=3180)\u001b[0m 1/1 - 124s - loss: 0.7497 - accuracy: 0.5625 - 124s/epoch - 124s/step\n",
            "\u001b[2m\u001b[36m(launch_and_fit pid=3180)\u001b[0m Epoch 5/5\n",
            "\u001b[2m\u001b[36m(launch_and_fit pid=3181)\u001b[0m Epoch 5/5\n",
            "\u001b[2m\u001b[36m(launch_and_fit pid=3181)\u001b[0m Epoch 5/5\n",
            "\u001b[2m\u001b[36m(launch_and_fit pid=3180)\u001b[0m 1/1 - 126s - loss: 11.9381 - accuracy: 0.4375 - 126s/epoch - 126s/step\n",
            "\u001b[2m\u001b[36m(launch_and_fit pid=3180)\u001b[0m Fit history :  {'loss': [0.7185072302818298, 9.982368469238281, 0.690130889415741, 0.7496879696846008, 11.938092231750488], 'accuracy': [0.375, 0.5625, 0.5625, 0.5625, 0.4375]}\n",
            "\u001b[2m\u001b[36m(launch_and_fit pid=3181)\u001b[0m Fit history :  {'loss': [0.7223396897315979, 3.5343070030212402, 4.840468883514404, 0.6853779554367065, 1.482014775276184], 'accuracy': [0.34375, 0.5625, 0.4375, 0.5625, 0.5625]}\n",
            "\u001b[2m\u001b[36m(launch_and_fit pid=3181)\u001b[0m Fit history :  {'loss': [0.7223396897315979, 3.5343070030212402, 4.840468883514404, 0.6853779554367065, 1.482014775276184], 'accuracy': [0.34375, 0.5625, 0.4375, 0.5625, 0.5625]}\n"
          ]
        },
        {
          "metadata": {
            "tags": null
          },
          "name": "stderr",
          "output_type": "stream",
          "text": [
            "DEBUG flwr 2023-04-28 11:01:35,915 | server.py:232 | fit_round 1 received 2 results and 0 failures\n",
            "DEBUG:flwr:fit_round 1 received 2 results and 0 failures\n",
            "WARNING flwr 2023-04-28 11:01:36,380 | fedavg.py:243 | No fit_metrics_aggregation_fn provided\n",
            "WARNING:flwr:No fit_metrics_aggregation_fn provided\n"
          ]
        },
        {
          "metadata": {
            "tags": null
          },
          "name": "stdout",
          "output_type": "stream",
          "text": [
            "Saving round 1 aggregated_weights...\n"
          ]
        },
        {
          "metadata": {
            "tags": null
          },
          "name": "stderr",
          "output_type": "stream",
          "text": [
            "DEBUG flwr 2023-04-28 11:01:36,599 | server.py:168 | evaluate_round 1: strategy sampled 2 clients (out of 2)\n",
            "DEBUG:flwr:evaluate_round 1: strategy sampled 2 clients (out of 2)\n"
          ]
        },
        {
          "metadata": {
            "tags": null
          },
          "name": "stdout",
          "output_type": "stream",
          "text": [
            "\u001b[2m\u001b[36m(launch_and_evaluate pid=3180)\u001b[0m ----------------------------ID is  0 ------------------------------------\n",
            "\u001b[2m\u001b[36m(launch_and_evaluate pid=3180)\u001b[0m Found 3000 images belonging to 2 classes.\n",
            "\u001b[2m\u001b[36m(launch_and_evaluate pid=3180)\u001b[0m Found 616 images belonging to 2 classes.\n",
            "\u001b[2m\u001b[36m(launch_and_evaluate pid=3180)\u001b[0m 1/1 - 52s - loss: 0.7050 - accuracy: 0.5000 - 52s/epoch - 52s/step\n",
            "\u001b[2m\u001b[36m(launch_and_evaluate pid=3181)\u001b[0m 1/1 - 52s - loss: 0.7050 - accuracy: 0.5000 - 52s/epoch - 52s/step\n",
            "\u001b[2m\u001b[36m(launch_and_evaluate pid=3181)\u001b[0m Found 616 images belonging to 2 classes.\u001b[32m [repeated 2x across cluster] (Ray deduplicates logs by default. Set RAY_DEDUP_LOGS=0 to disable log deduplication, or see https://docs.ray.io/en/master/ray-observability/ray-logging.html#log-deduplication for more options.)\u001b[0m\n"
          ]
        },
        {
          "metadata": {
            "tags": null
          },
          "name": "stderr",
          "output_type": "stream",
          "text": [
            "DEBUG flwr 2023-04-28 11:02:57,485 | server.py:182 | evaluate_round 1 received 2 results and 0 failures\n",
            "DEBUG:flwr:evaluate_round 1 received 2 results and 0 failures\n",
            "WARNING flwr 2023-04-28 11:02:57,493 | fedavg.py:274 | No evaluate_metrics_aggregation_fn provided\n",
            "WARNING:flwr:No evaluate_metrics_aggregation_fn provided\n",
            "DEBUG flwr 2023-04-28 11:02:57,496 | server.py:218 | fit_round 2: strategy sampled 2 clients (out of 2)\n",
            "DEBUG:flwr:fit_round 2: strategy sampled 2 clients (out of 2)\n"
          ]
        },
        {
          "output_type": "stream",
          "name": "stdout",
          "text": [
            "\u001b[2m\u001b[36m(launch_and_evaluate pid=3181)\u001b[0m 1/1 - 54s - loss: 0.7273 - accuracy: 0.4375 - 54s/epoch - 54s/step\n",
            "\u001b[2m\u001b[36m(launch_and_fit pid=3180)\u001b[0m ----------------------------ID is  1 ------------------------------------\n",
            "\u001b[2m\u001b[36m(launch_and_fit pid=3180)\u001b[0m Found 3000 images belonging to 2 classes.\n",
            "\u001b[2m\u001b[36m(launch_and_fit pid=3180)\u001b[0m Found 616 images belonging to 2 classes.\n",
            "\u001b[2m\u001b[36m(launch_and_fit pid=3181)\u001b[0m Epoch 1/5\n",
            "\u001b[2m\u001b[36m(launch_and_fit pid=3181)\u001b[0m Epoch 1/5\n",
            "\u001b[2m\u001b[36m(launch_and_fit pid=3181)\u001b[0m Found 616 images belonging to 2 classes.\u001b[32m [repeated 2x across cluster]\u001b[0m\n",
            "\u001b[2m\u001b[36m(launch_and_fit pid=3181)\u001b[0m 1/1 - 129s - loss: 0.6959 - accuracy: 0.5312 - 129s/epoch - 129s/step\n",
            "\u001b[2m\u001b[36m(launch_and_fit pid=3181)\u001b[0m Epoch 2/5\u001b[32m [repeated 2x across cluster]\u001b[0m\n",
            "\u001b[2m\u001b[36m(launch_and_fit pid=3181)\u001b[0m 1/1 - 122s - loss: 0.7744 - accuracy: 0.5312 - 122s/epoch - 122s/step\u001b[32m [repeated 2x across cluster]\u001b[0m\n",
            "\u001b[2m\u001b[36m(launch_and_fit pid=3181)\u001b[0m Epoch 3/5\u001b[32m [repeated 2x across cluster]\u001b[0m\n",
            "\u001b[2m\u001b[36m(launch_and_fit pid=3181)\u001b[0m 1/1 - 123s - loss: 40.7996 - accuracy: 0.5312 - 123s/epoch - 123s/step\u001b[32m [repeated 2x across cluster]\u001b[0m\n",
            "\u001b[2m\u001b[36m(launch_and_fit pid=3181)\u001b[0m Epoch 4/5\u001b[32m [repeated 2x across cluster]\u001b[0m\n",
            "\u001b[2m\u001b[36m(launch_and_fit pid=3180)\u001b[0m Fit history :  {'loss': [0.6869641542434692, 2.919525384902954, 3.1495282649993896, 0.8127256631851196, 0.6805722117424011], 'accuracy': [0.5625, 0.5625, 0.4375, 0.4375, 0.5625]}\n",
            "\u001b[2m\u001b[36m(launch_and_fit pid=3180)\u001b[0m 1/1 - 120s - loss: 0.6806 - accuracy: 0.5625 - 120s/epoch - 120s/step\u001b[32m [repeated 2x across cluster]\u001b[0m\n",
            "\u001b[2m\u001b[36m(launch_and_fit pid=3181)\u001b[0m Fit history :  {'loss': [0.6869641542434692, 2.919525384902954, 3.1495282649993896, 0.8127256631851196, 0.6805722117424011], 'accuracy': [0.5625, 0.5625, 0.4375, 0.4375, 0.5625]}\n"
          ]
        },
        {
          "output_type": "stream",
          "name": "stderr",
          "text": [
            "DEBUG flwr 2023-04-28 11:13:58,566 | server.py:232 | fit_round 2 received 2 results and 0 failures\n",
            "DEBUG:flwr:fit_round 2 received 2 results and 0 failures\n"
          ]
        },
        {
          "output_type": "stream",
          "name": "stdout",
          "text": [
            "Saving round 2 aggregated_weights...\n"
          ]
        },
        {
          "output_type": "stream",
          "name": "stderr",
          "text": [
            "DEBUG flwr 2023-04-28 11:13:59,522 | server.py:168 | evaluate_round 2: strategy sampled 2 clients (out of 2)\n",
            "DEBUG:flwr:evaluate_round 2: strategy sampled 2 clients (out of 2)\n"
          ]
        },
        {
          "output_type": "stream",
          "name": "stdout",
          "text": [
            "\u001b[2m\u001b[36m(launch_and_evaluate pid=3180)\u001b[0m ----------------------------ID is  1 ------------------------------------\n",
            "\u001b[2m\u001b[36m(launch_and_fit pid=3181)\u001b[0m ----------------------------ID is  1 ------------------------------------\n",
            "\u001b[2m\u001b[36m(launch_and_fit pid=3181)\u001b[0m ----------------------------ID is  1 ------------------------------------\n",
            "\u001b[2m\u001b[36m(launch_and_evaluate pid=3180)\u001b[0m Found 3000 images belonging to 2 classes.\n",
            "\u001b[2m\u001b[36m(launch_and_evaluate pid=3180)\u001b[0m Found 616 images belonging to 2 classes.\n",
            "\u001b[2m\u001b[36m(launch_and_evaluate pid=3180)\u001b[0m 1/1 - 46s - loss: 0.7578 - accuracy: 0.5625 - 46s/epoch - 46s/step\n",
            "\u001b[2m\u001b[36m(launch_and_evaluate pid=3181)\u001b[0m 1/1 - 46s - loss: 0.7578 - accuracy: 0.5625 - 46s/epoch - 46s/step\n",
            "\u001b[2m\u001b[36m(launch_and_evaluate pid=3181)\u001b[0m Found 616 images belonging to 2 classes.\u001b[32m [repeated 2x across cluster]\u001b[0m\n"
          ]
        },
        {
          "output_type": "stream",
          "name": "stderr",
          "text": [
            "DEBUG flwr 2023-04-28 11:15:14,993 | server.py:182 | evaluate_round 2 received 2 results and 0 failures\n",
            "DEBUG:flwr:evaluate_round 2 received 2 results and 0 failures\n",
            "DEBUG flwr 2023-04-28 11:15:15,002 | server.py:218 | fit_round 3: strategy sampled 2 clients (out of 2)\n",
            "DEBUG:flwr:fit_round 3: strategy sampled 2 clients (out of 2)\n"
          ]
        },
        {
          "output_type": "stream",
          "name": "stdout",
          "text": [
            "\u001b[2m\u001b[36m(launch_and_evaluate pid=3181)\u001b[0m 1/1 - 49s - loss: 0.9750 - accuracy: 0.3750 - 49s/epoch - 49s/step\n",
            "\u001b[2m\u001b[36m(launch_and_fit pid=3180)\u001b[0m ----------------------------ID is  1 ------------------------------------\n",
            "\u001b[2m\u001b[36m(launch_and_fit pid=3180)\u001b[0m Found 3000 images belonging to 2 classes.\n",
            "\u001b[2m\u001b[36m(launch_and_fit pid=3180)\u001b[0m Epoch 1/5\n",
            "\u001b[2m\u001b[36m(launch_and_fit pid=3181)\u001b[0m Epoch 1/5\n",
            "\u001b[2m\u001b[36m(launch_and_fit pid=3181)\u001b[0m Found 616 images belonging to 2 classes.\u001b[32m [repeated 3x across cluster]\u001b[0m\n",
            "\u001b[2m\u001b[36m(launch_and_fit pid=3181)\u001b[0m Epoch 1/5\n",
            "\u001b[2m\u001b[36m(launch_and_fit pid=3180)\u001b[0m 1/1 - 114s - loss: 1.0127 - accuracy: 0.3438 - 114s/epoch - 114s/step\n",
            "\u001b[2m\u001b[36m(launch_and_fit pid=3180)\u001b[0m Epoch 2/5\n",
            "\u001b[2m\u001b[36m(launch_and_fit pid=3181)\u001b[0m Epoch 2/5\n",
            "\u001b[2m\u001b[36m(launch_and_fit pid=3181)\u001b[0m Epoch 2/5\n",
            "\u001b[2m\u001b[36m(launch_and_fit pid=3180)\u001b[0m 1/1 - 123s - loss: 0.6499 - accuracy: 0.6562 - 123s/epoch - 123s/step\n",
            "\u001b[2m\u001b[36m(launch_and_fit pid=3180)\u001b[0m Epoch 3/5\n",
            "\u001b[2m\u001b[36m(launch_and_fit pid=3181)\u001b[0m Epoch 3/5\n",
            "\u001b[2m\u001b[36m(launch_and_fit pid=3181)\u001b[0m Epoch 3/5\n",
            "\u001b[2m\u001b[36m(launch_and_fit pid=3180)\u001b[0m 1/1 - 126s - loss: 0.6422 - accuracy: 0.6562 - 126s/epoch - 126s/step\n",
            "\u001b[2m\u001b[36m(launch_and_fit pid=3180)\u001b[0m Epoch 4/5\n",
            "\u001b[2m\u001b[36m(launch_and_fit pid=3181)\u001b[0m Epoch 4/5\n",
            "\u001b[2m\u001b[36m(launch_and_fit pid=3181)\u001b[0m Epoch 4/5\n",
            "\u001b[2m\u001b[36m(launch_and_fit pid=3180)\u001b[0m 1/1 - 122s - loss: 0.6429 - accuracy: 0.6562 - 122s/epoch - 122s/step\n",
            "\u001b[2m\u001b[36m(launch_and_fit pid=3180)\u001b[0m Epoch 5/5\n",
            "\u001b[2m\u001b[36m(launch_and_fit pid=3181)\u001b[0m Epoch 5/5\n",
            "\u001b[2m\u001b[36m(launch_and_fit pid=3181)\u001b[0m Epoch 5/5\n",
            "\u001b[2m\u001b[36m(launch_and_fit pid=3180)\u001b[0m 1/1 - 122s - loss: 3.9870 - accuracy: 0.6562 - 122s/epoch - 122s/step\n",
            "\u001b[2m\u001b[36m(launch_and_fit pid=3180)\u001b[0m Fit history :  {'loss': [1.0127241611480713, 0.6499211192131042, 0.6421951055526733, 0.642918050289154, 3.9870047569274902], 'accuracy': [0.34375, 0.65625, 0.65625, 0.65625, 0.65625]}\n",
            "\u001b[2m\u001b[36m(launch_and_fit pid=3181)\u001b[0m Fit history :  {'loss': [0.7342929840087891, 0.856084942817688, 0.6954690217971802, 0.6999126672744751, 0.6921605467796326], 'accuracy': [0.5625, 0.4375, 0.4375, 0.4375, 0.5625]}\n",
            "\u001b[2m\u001b[36m(launch_and_fit pid=3181)\u001b[0m Fit history :  {'loss': [0.7342929840087891, 0.856084942817688, 0.6954690217971802, 0.6999126672744751, 0.6921605467796326], 'accuracy': [0.5625, 0.4375, 0.4375, 0.4375, 0.5625]}\n"
          ]
        },
        {
          "output_type": "stream",
          "name": "stderr",
          "text": [
            "DEBUG flwr 2023-04-28 11:25:42,794 | server.py:232 | fit_round 3 received 2 results and 0 failures\n",
            "DEBUG:flwr:fit_round 3 received 2 results and 0 failures\n"
          ]
        },
        {
          "output_type": "stream",
          "name": "stdout",
          "text": [
            "Saving round 3 aggregated_weights...\n"
          ]
        },
        {
          "output_type": "stream",
          "name": "stderr",
          "text": [
            "DEBUG flwr 2023-04-28 11:25:43,369 | server.py:168 | evaluate_round 3: strategy sampled 2 clients (out of 2)\n",
            "DEBUG:flwr:evaluate_round 3: strategy sampled 2 clients (out of 2)\n"
          ]
        },
        {
          "output_type": "stream",
          "name": "stdout",
          "text": [
            "\u001b[2m\u001b[36m(launch_and_evaluate pid=3181)\u001b[0m ----------------------------ID is  0 ------------------------------------\n",
            "\u001b[2m\u001b[36m(launch_and_evaluate pid=3181)\u001b[0m Found 3000 images belonging to 2 classes.\n",
            "\u001b[2m\u001b[36m(launch_and_evaluate pid=3181)\u001b[0m Found 616 images belonging to 2 classes.\n",
            "\u001b[2m\u001b[36m(launch_and_evaluate pid=3180)\u001b[0m 1/1 - 55s - loss: 0.6602 - accuracy: 0.6875 - 55s/epoch - 55s/step\n",
            "\u001b[2m\u001b[36m(launch_and_evaluate pid=3180)\u001b[0m 1/1 - 55s - loss: 0.6602 - accuracy: 0.6875 - 55s/epoch - 55s/step\n",
            "\u001b[2m\u001b[36m(launch_and_evaluate pid=3180)\u001b[0m Found 616 images belonging to 2 classes.\u001b[32m [repeated 2x across cluster]\u001b[0m\n"
          ]
        },
        {
          "output_type": "stream",
          "name": "stderr",
          "text": [
            "DEBUG flwr 2023-04-28 11:26:55,751 | server.py:182 | evaluate_round 3 received 2 results and 0 failures\n",
            "DEBUG:flwr:evaluate_round 3 received 2 results and 0 failures\n",
            "DEBUG flwr 2023-04-28 11:26:55,754 | server.py:218 | fit_round 4: strategy sampled 2 clients (out of 2)\n",
            "DEBUG:flwr:fit_round 4: strategy sampled 2 clients (out of 2)\n"
          ]
        },
        {
          "output_type": "stream",
          "name": "stdout",
          "text": [
            "\u001b[2m\u001b[36m(launch_and_fit pid=3180)\u001b[0m ----------------------------ID is  1 ------------------------------------\n",
            "\u001b[2m\u001b[36m(launch_and_fit pid=3180)\u001b[0m Epoch 1/5\n",
            "\u001b[2m\u001b[36m(launch_and_evaluate pid=3181)\u001b[0m Epoch 1/5\n",
            "\u001b[2m\u001b[36m(launch_and_fit pid=3181)\u001b[0m Found 616 images belonging to 2 classes.\u001b[32m [repeated 4x across cluster]\u001b[0m\n",
            "\u001b[2m\u001b[36m(launch_and_fit pid=3181)\u001b[0m Epoch 1/5\n",
            "\u001b[2m\u001b[36m(launch_and_fit pid=3181)\u001b[0m Epoch 1/5\n",
            "\u001b[2m\u001b[36m(launch_and_fit pid=3180)\u001b[0m 1/1 - 115s - loss: 0.7089 - accuracy: 0.4375 - 115s/epoch - 115s/step\n",
            "\u001b[2m\u001b[36m(launch_and_fit pid=3180)\u001b[0m Epoch 2/5\n",
            "\u001b[2m\u001b[36m(launch_and_fit pid=3181)\u001b[0m Epoch 2/5\n",
            "\u001b[2m\u001b[36m(launch_and_fit pid=3181)\u001b[0m Epoch 2/5\n",
            "\u001b[2m\u001b[36m(launch_and_fit pid=3180)\u001b[0m 1/1 - 134s - loss: 0.6942 - accuracy: 0.4375 - 134s/epoch - 134s/step\n",
            "\u001b[2m\u001b[36m(launch_and_fit pid=3180)\u001b[0m Epoch 3/5\n",
            "\u001b[2m\u001b[36m(launch_and_fit pid=3181)\u001b[0m Epoch 3/5\n",
            "\u001b[2m\u001b[36m(launch_and_fit pid=3181)\u001b[0m Epoch 3/5\n",
            "\u001b[2m\u001b[36m(launch_and_fit pid=3180)\u001b[0m 1/1 - 121s - loss: 0.6932 - accuracy: 0.5312 - 121s/epoch - 121s/step\n",
            "\u001b[2m\u001b[36m(launch_and_fit pid=3180)\u001b[0m Epoch 4/5\n",
            "\u001b[2m\u001b[36m(launch_and_fit pid=3181)\u001b[0m Epoch 4/5\n",
            "\u001b[2m\u001b[36m(launch_and_fit pid=3181)\u001b[0m Epoch 4/5\n",
            "\u001b[2m\u001b[36m(launch_and_fit pid=3180)\u001b[0m 1/1 - 121s - loss: 0.6922 - accuracy: 0.5625 - 121s/epoch - 121s/step\n",
            "\u001b[2m\u001b[36m(launch_and_fit pid=3180)\u001b[0m Epoch 5/5\n",
            "\u001b[2m\u001b[36m(launch_and_fit pid=3181)\u001b[0m 1/1 - 119s - loss: 0.6812 - accuracy: 0.5938 - 119s/epoch - 119s/step\n",
            "\u001b[2m\u001b[36m(launch_and_fit pid=3181)\u001b[0m Epoch 5/5\n",
            "\u001b[2m\u001b[36m(launch_and_fit pid=3180)\u001b[0m 1/1 - 120s - loss: 0.6903 - accuracy: 0.5625 - 120s/epoch - 120s/step\n",
            "\u001b[2m\u001b[36m(launch_and_fit pid=3180)\u001b[0m Fit history :  {'loss': [0.7089369297027588, 0.6942348480224609, 0.6932492256164551, 0.6922479867935181, 0.690339207649231], 'accuracy': [0.4375, 0.4375, 0.53125, 0.5625, 0.5625]}\n",
            "\u001b[2m\u001b[36m(launch_and_fit pid=3181)\u001b[0m Fit history :  {'loss': [0.6742368936538696, 2.4375834465026855, 0.6787693500518799, 0.6812146902084351, 0.6766365170478821], 'accuracy': [0.59375, 0.59375, 0.59375, 0.59375, 0.59375]}\n",
            "\u001b[2m\u001b[36m(launch_and_fit pid=3181)\u001b[0m Fit history :  {'loss': [0.6742368936538696, 2.4375834465026855, 0.6787693500518799, 0.6812146902084351, 0.6766365170478821], 'accuracy': [0.59375, 0.59375, 0.59375, 0.59375, 0.59375]}\n"
          ]
        },
        {
          "output_type": "stream",
          "name": "stderr",
          "text": [
            "DEBUG flwr 2023-04-28 11:37:32,005 | server.py:232 | fit_round 4 received 2 results and 0 failures\n",
            "DEBUG:flwr:fit_round 4 received 2 results and 0 failures\n"
          ]
        },
        {
          "output_type": "stream",
          "name": "stdout",
          "text": [
            "Saving round 4 aggregated_weights...\n"
          ]
        },
        {
          "output_type": "stream",
          "name": "stderr",
          "text": [
            "DEBUG flwr 2023-04-28 11:37:32,572 | server.py:168 | evaluate_round 4: strategy sampled 2 clients (out of 2)\n",
            "DEBUG:flwr:evaluate_round 4: strategy sampled 2 clients (out of 2)\n"
          ]
        },
        {
          "output_type": "stream",
          "name": "stdout",
          "text": [
            "\u001b[2m\u001b[36m(launch_and_evaluate pid=3180)\u001b[0m ----------------------------ID is  0 ------------------------------------\n",
            "\u001b[2m\u001b[36m(launch_and_evaluate pid=3180)\u001b[0m Found 3000 images belonging to 2 classes.\n",
            "\u001b[2m\u001b[36m(launch_and_evaluate pid=3180)\u001b[0m Found 616 images belonging to 2 classes.\n",
            "\u001b[2m\u001b[36m(launch_and_evaluate pid=3181)\u001b[0m 1/1 - 43s - loss: 0.6884 - accuracy: 0.6562 - 43s/epoch - 43s/step\n",
            "\u001b[2m\u001b[36m(launch_and_evaluate pid=3181)\u001b[0m 1/1 - 43s - loss: 0.6884 - accuracy: 0.6562 - 43s/epoch - 43s/step\n",
            "\u001b[2m\u001b[36m(launch_and_evaluate pid=3181)\u001b[0m Found 616 images belonging to 2 classes.\u001b[32m [repeated 2x across cluster]\u001b[0m\n"
          ]
        },
        {
          "output_type": "stream",
          "name": "stderr",
          "text": [
            "DEBUG flwr 2023-04-28 11:38:40,918 | server.py:182 | evaluate_round 4 received 2 results and 0 failures\n",
            "DEBUG:flwr:evaluate_round 4 received 2 results and 0 failures\n",
            "DEBUG flwr 2023-04-28 11:38:40,926 | server.py:218 | fit_round 5: strategy sampled 2 clients (out of 2)\n",
            "DEBUG:flwr:fit_round 5: strategy sampled 2 clients (out of 2)\n"
          ]
        },
        {
          "output_type": "stream",
          "name": "stdout",
          "text": [
            "\u001b[2m\u001b[36m(launch_and_evaluate pid=3180)\u001b[0m 1/1 - 45s - loss: 0.6900 - accuracy: 0.6250 - 45s/epoch - 45s/step\n",
            "\u001b[2m\u001b[36m(launch_and_fit pid=3180)\u001b[0m ----------------------------ID is  1 ------------------------------------\n",
            "\u001b[2m\u001b[36m(launch_and_fit pid=3180)\u001b[0m Found 3000 images belonging to 2 classes.\n",
            "\u001b[2m\u001b[36m(launch_and_fit pid=3180)\u001b[0m Found 616 images belonging to 2 classes.\n",
            "\u001b[2m\u001b[36m(launch_and_fit pid=3180)\u001b[0m Epoch 1/5\n",
            "\u001b[2m\u001b[36m(launch_and_fit pid=3181)\u001b[0m Epoch 1/5\n",
            "\u001b[2m\u001b[36m(launch_and_fit pid=3181)\u001b[0m Found 616 images belonging to 2 classes.\u001b[32m [repeated 2x across cluster]\u001b[0m\n",
            "\u001b[2m\u001b[36m(launch_and_fit pid=3181)\u001b[0m Epoch 1/5\n",
            "\u001b[2m\u001b[36m(launch_and_fit pid=3180)\u001b[0m 1/1 - 112s - loss: 0.6945 - accuracy: 0.4688 - 112s/epoch - 112s/step\n",
            "\u001b[2m\u001b[36m(launch_and_fit pid=3180)\u001b[0m Epoch 2/5\n",
            "\u001b[2m\u001b[36m(launch_and_fit pid=3181)\u001b[0m Epoch 2/5\n",
            "\u001b[2m\u001b[36m(launch_and_fit pid=3181)\u001b[0m Epoch 2/5\n",
            "\u001b[2m\u001b[36m(launch_and_fit pid=3180)\u001b[0m 1/1 - 122s - loss: 0.7206 - accuracy: 0.4688 - 122s/epoch - 122s/step\n",
            "\u001b[2m\u001b[36m(launch_and_fit pid=3180)\u001b[0m Epoch 3/5\n",
            "\u001b[2m\u001b[36m(launch_and_fit pid=3181)\u001b[0m Epoch 3/5\n",
            "\u001b[2m\u001b[36m(launch_and_fit pid=3181)\u001b[0m Epoch 3/5\n",
            "\u001b[2m\u001b[36m(launch_and_fit pid=3180)\u001b[0m 1/1 - 120s - loss: 0.6924 - accuracy: 0.5312 - 120s/epoch - 120s/step\n",
            "\u001b[2m\u001b[36m(launch_and_fit pid=3180)\u001b[0m Epoch 4/5\n",
            "\u001b[2m\u001b[36m(launch_and_fit pid=3181)\u001b[0m Epoch 4/5\n",
            "\u001b[2m\u001b[36m(launch_and_fit pid=3181)\u001b[0m Epoch 4/5\n",
            "\u001b[2m\u001b[36m(launch_and_fit pid=3180)\u001b[0m 1/1 - 122s - loss: 0.6918 - accuracy: 0.5312 - 122s/epoch - 122s/step\n",
            "\u001b[2m\u001b[36m(launch_and_fit pid=3180)\u001b[0m Epoch 5/5\n",
            "\u001b[2m\u001b[36m(launch_and_fit pid=3181)\u001b[0m Epoch 5/5\n",
            "\u001b[2m\u001b[36m(launch_and_fit pid=3181)\u001b[0m Epoch 5/5\n",
            "\u001b[2m\u001b[36m(launch_and_fit pid=3180)\u001b[0m 1/1 - 120s - loss: 0.8879 - accuracy: 0.5312 - 120s/epoch - 120s/step\n",
            "\u001b[2m\u001b[36m(launch_and_fit pid=3180)\u001b[0m Fit history :  {'loss': [0.6944549679756165, 0.7206072807312012, 0.6924211382865906, 0.6917563676834106, 0.8879147171974182], 'accuracy': [0.46875, 0.46875, 0.53125, 0.53125, 0.53125]}\n",
            "\u001b[2m\u001b[36m(launch_and_fit pid=3181)\u001b[0m Fit history :  {'loss': [0.6941860318183899, 0.7231149673461914, 2.4799611568450928, 0.9903285503387451, 0.685876727104187], 'accuracy': [0.4375, 0.4375, 0.4375, 0.5625, 0.5625]}\n",
            "\u001b[2m\u001b[36m(launch_and_fit pid=3181)\u001b[0m Fit history :  {'loss': [0.6941860318183899, 0.7231149673461914, 2.4799611568450928, 0.9903285503387451, 0.685876727104187], 'accuracy': [0.4375, 0.4375, 0.4375, 0.5625, 0.5625]}\n"
          ]
        },
        {
          "output_type": "stream",
          "name": "stderr",
          "text": [
            "DEBUG flwr 2023-04-28 11:49:02,326 | server.py:232 | fit_round 5 received 2 results and 0 failures\n",
            "DEBUG:flwr:fit_round 5 received 2 results and 0 failures\n"
          ]
        },
        {
          "output_type": "stream",
          "name": "stdout",
          "text": [
            "Saving round 5 aggregated_weights...\n"
          ]
        },
        {
          "output_type": "stream",
          "name": "stderr",
          "text": [
            "DEBUG flwr 2023-04-28 11:49:03,047 | server.py:168 | evaluate_round 5: strategy sampled 2 clients (out of 2)\n",
            "DEBUG:flwr:evaluate_round 5: strategy sampled 2 clients (out of 2)\n"
          ]
        },
        {
          "output_type": "stream",
          "name": "stdout",
          "text": [
            "\u001b[2m\u001b[36m(launch_and_evaluate pid=3180)\u001b[0m ----------------------------ID is  1 ------------------------------------\n",
            "\u001b[2m\u001b[36m(launch_and_evaluate pid=3181)\u001b[0m Found 3000 images belonging to 2 classes.\n",
            "\u001b[2m\u001b[36m(launch_and_evaluate pid=3180)\u001b[0m 1/1 - 48s - loss: 0.6905 - accuracy: 0.5625 - 48s/epoch - 48s/step\n",
            "\u001b[2m\u001b[36m(launch_and_evaluate pid=3181)\u001b[0m 1/1 - 48s - loss: 0.6905 - accuracy: 0.5625 - 48s/epoch - 48s/step\n",
            "\u001b[2m\u001b[36m(launch_and_evaluate pid=3181)\u001b[0m Found 616 images belonging to 2 classes.\u001b[32m [repeated 3x across cluster]\u001b[0m\n"
          ]
        },
        {
          "output_type": "stream",
          "name": "stderr",
          "text": [
            "\u001b[2m\u001b[36m(launch_and_evaluate pid=3180)\u001b[0m WARNING:tensorflow:5 out of the last 5 calls to <function Model.make_test_function.<locals>.test_function at 0x7f6fa547e5f0> triggered tf.function retracing. Tracing is expensive and the excessive number of tracings could be due to (1) creating @tf.function repeatedly in a loop, (2) passing tensors with different shapes, (3) passing Python objects instead of tensors. For (1), please define your @tf.function outside of the loop. For (2), @tf.function has reduce_retracing=True option that can avoid unnecessary retracing. For (3), please refer to https://www.tensorflow.org/guide/function#controlling_retracing and https://www.tensorflow.org/api_docs/python/tf/function for  more details.\n",
            "DEBUG flwr 2023-04-28 11:50:12,453 | server.py:182 | evaluate_round 5 received 2 results and 0 failures\n",
            "DEBUG:flwr:evaluate_round 5 received 2 results and 0 failures\n",
            "DEBUG flwr 2023-04-28 11:50:12,458 | server.py:218 | fit_round 6: strategy sampled 2 clients (out of 2)\n",
            "DEBUG:flwr:fit_round 6: strategy sampled 2 clients (out of 2)\n",
            "\u001b[2m\u001b[36m(launch_and_evaluate pid=3181)\u001b[0m WARNING:tensorflow:5 out of the last 5 calls to <function Model.make_test_function.<locals>.test_function at 0x7f130353f490> triggered tf.function retracing. Tracing is expensive and the excessive number of tracings could be due to (1) creating @tf.function repeatedly in a loop, (2) passing tensors with different shapes, (3) passing Python objects instead of tensors. For (1), please define your @tf.function outside of the loop. For (2), @tf.function has reduce_retracing=True option that can avoid unnecessary retracing. For (3), please refer to https://www.tensorflow.org/guide/function#controlling_retracing and https://www.tensorflow.org/api_docs/python/tf/function for  more details.\n"
          ]
        },
        {
          "output_type": "stream",
          "name": "stdout",
          "text": [
            "\u001b[2m\u001b[36m(launch_and_evaluate pid=3181)\u001b[0m 1/1 - 47s - loss: 0.6934 - accuracy: 0.5000 - 47s/epoch - 47s/step\n",
            "\u001b[2m\u001b[36m(launch_and_fit pid=3180)\u001b[0m ----------------------------ID is  0 ------------------------------------\n",
            "\u001b[2m\u001b[36m(launch_and_fit pid=3180)\u001b[0m Found 3000 images belonging to 2 classes.\n",
            "\u001b[2m\u001b[36m(launch_and_fit pid=3180)\u001b[0m Found 616 images belonging to 2 classes.\n",
            "\u001b[2m\u001b[36m(launch_and_fit pid=3181)\u001b[0m Epoch 1/5\n",
            "\u001b[2m\u001b[36m(launch_and_fit pid=3181)\u001b[0m Epoch 1/5\n",
            "\u001b[2m\u001b[36m(launch_and_fit pid=3181)\u001b[0m Found 616 images belonging to 2 classes.\u001b[32m [repeated 2x across cluster]\u001b[0m\n",
            "\u001b[2m\u001b[36m(launch_and_fit pid=3180)\u001b[0m Epoch 1/5\n",
            "\u001b[2m\u001b[36m(launch_and_fit pid=3181)\u001b[0m 1/1 - 117s - loss: 0.6920 - accuracy: 0.5312 - 117s/epoch - 117s/step\n",
            "\u001b[2m\u001b[36m(launch_and_fit pid=3181)\u001b[0m Epoch 2/5\n",
            "\u001b[2m\u001b[36m(launch_and_fit pid=3180)\u001b[0m Epoch 2/5\n",
            "\u001b[2m\u001b[36m(launch_and_fit pid=3180)\u001b[0m Epoch 2/5\n",
            "\u001b[2m\u001b[36m(launch_and_fit pid=3181)\u001b[0m 1/1 - 121s - loss: 0.6917 - accuracy: 0.5312 - 121s/epoch - 121s/step\n",
            "\u001b[2m\u001b[36m(launch_and_fit pid=3181)\u001b[0m Epoch 3/5\n",
            "\u001b[2m\u001b[36m(launch_and_fit pid=3180)\u001b[0m Epoch 3/5\n",
            "\u001b[2m\u001b[36m(launch_and_fit pid=3180)\u001b[0m Epoch 3/5\n",
            "\u001b[2m\u001b[36m(launch_and_fit pid=3181)\u001b[0m 1/1 - 121s - loss: 0.6999 - accuracy: 0.5312 - 121s/epoch - 121s/step\n",
            "\u001b[2m\u001b[36m(launch_and_fit pid=3181)\u001b[0m Epoch 4/5\n",
            "\u001b[2m\u001b[36m(launch_and_fit pid=3180)\u001b[0m Epoch 4/5\n",
            "\u001b[2m\u001b[36m(launch_and_fit pid=3180)\u001b[0m Epoch 4/5\n",
            "\u001b[2m\u001b[36m(launch_and_fit pid=3181)\u001b[0m 1/1 - 120s - loss: 0.6909 - accuracy: 0.6562 - 120s/epoch - 120s/step\n",
            "\u001b[2m\u001b[36m(launch_and_fit pid=3181)\u001b[0m Epoch 5/5\n",
            "\u001b[2m\u001b[36m(launch_and_fit pid=3180)\u001b[0m Epoch 5/5\n",
            "\u001b[2m\u001b[36m(launch_and_fit pid=3180)\u001b[0m Epoch 5/5\n",
            "\u001b[2m\u001b[36m(launch_and_fit pid=3181)\u001b[0m 1/1 - 125s - loss: 0.6897 - accuracy: 0.5312 - 125s/epoch - 125s/step\n",
            "\u001b[2m\u001b[36m(launch_and_fit pid=3181)\u001b[0m Fit history :  {'loss': [0.6919525265693665, 0.6917338371276855, 0.6998703479766846, 0.6909325122833252, 0.6896999478340149], 'accuracy': [0.53125, 0.53125, 0.53125, 0.65625, 0.53125]}\n",
            "\u001b[2m\u001b[36m(launch_and_fit pid=3180)\u001b[0m Fit history :  {'loss': [0.6932430863380432, 0.6932847499847412, 0.6469714045524597, 0.6806984543800354, 0.6929246187210083], 'accuracy': [0.5, 0.5, 0.5, 0.5, 0.5]}\n",
            "\u001b[2m\u001b[36m(launch_and_fit pid=3180)\u001b[0m Fit history :  {'loss': [0.6932430863380432, 0.6932847499847412, 0.6469714045524597, 0.6806984543800354, 0.6929246187210083], 'accuracy': [0.5, 0.5, 0.5, 0.5, 0.5]}\n"
          ]
        },
        {
          "output_type": "stream",
          "name": "stderr",
          "text": [
            "DEBUG flwr 2023-04-28 12:00:35,761 | server.py:232 | fit_round 6 received 2 results and 0 failures\n",
            "DEBUG:flwr:fit_round 6 received 2 results and 0 failures\n"
          ]
        },
        {
          "output_type": "stream",
          "name": "stdout",
          "text": [
            "Saving round 6 aggregated_weights...\n"
          ]
        },
        {
          "output_type": "stream",
          "name": "stderr",
          "text": [
            "DEBUG flwr 2023-04-28 12:00:36,312 | server.py:168 | evaluate_round 6: strategy sampled 2 clients (out of 2)\n",
            "DEBUG:flwr:evaluate_round 6: strategy sampled 2 clients (out of 2)\n"
          ]
        },
        {
          "output_type": "stream",
          "name": "stdout",
          "text": [
            "\u001b[2m\u001b[36m(launch_and_evaluate pid=3180)\u001b[0m ----------------------------ID is  0 ------------------------------------\n",
            "\u001b[2m\u001b[36m(launch_and_evaluate pid=3180)\u001b[0m Found 3000 images belonging to 2 classes.\n",
            "\u001b[2m\u001b[36m(launch_and_evaluate pid=3180)\u001b[0m Found 616 images belonging to 2 classes.\n",
            "\u001b[2m\u001b[36m(launch_and_evaluate pid=3181)\u001b[0m 1/1 - 53s - loss: 0.6934 - accuracy: 0.4688 - 53s/epoch - 53s/step\n",
            "\u001b[2m\u001b[36m(launch_and_evaluate pid=3181)\u001b[0m 1/1 - 53s - loss: 0.6934 - accuracy: 0.4688 - 53s/epoch - 53s/step\n",
            "\u001b[2m\u001b[36m(launch_and_evaluate pid=3181)\u001b[0m Found 616 images belonging to 2 classes.\u001b[32m [repeated 2x across cluster]\u001b[0m\n"
          ]
        },
        {
          "output_type": "stream",
          "name": "stderr",
          "text": [
            "\u001b[2m\u001b[36m(launch_and_evaluate pid=3181)\u001b[0m WARNING:tensorflow:6 out of the last 6 calls to <function Model.make_test_function.<locals>.test_function at 0x7f1303900af0> triggered tf.function retracing. Tracing is expensive and the excessive number of tracings could be due to (1) creating @tf.function repeatedly in a loop, (2) passing tensors with different shapes, (3) passing Python objects instead of tensors. For (1), please define your @tf.function outside of the loop. For (2), @tf.function has reduce_retracing=True option that can avoid unnecessary retracing. For (3), please refer to https://www.tensorflow.org/guide/function#controlling_retracing and https://www.tensorflow.org/api_docs/python/tf/function for  more details.\n",
            "DEBUG flwr 2023-04-28 12:01:49,299 | server.py:182 | evaluate_round 6 received 2 results and 0 failures\n",
            "DEBUG:flwr:evaluate_round 6 received 2 results and 0 failures\n",
            "DEBUG flwr 2023-04-28 12:01:49,312 | server.py:218 | fit_round 7: strategy sampled 2 clients (out of 2)\n",
            "DEBUG:flwr:fit_round 7: strategy sampled 2 clients (out of 2)\n",
            "\u001b[2m\u001b[36m(launch_and_evaluate pid=3180)\u001b[0m WARNING:tensorflow:6 out of the last 6 calls to <function Model.make_test_function.<locals>.test_function at 0x7f6fa50f48b0> triggered tf.function retracing. Tracing is expensive and the excessive number of tracings could be due to (1) creating @tf.function repeatedly in a loop, (2) passing tensors with different shapes, (3) passing Python objects instead of tensors. For (1), please define your @tf.function outside of the loop. For (2), @tf.function has reduce_retracing=True option that can avoid unnecessary retracing. For (3), please refer to https://www.tensorflow.org/guide/function#controlling_retracing and https://www.tensorflow.org/api_docs/python/tf/function for  more details.\n"
          ]
        },
        {
          "output_type": "stream",
          "name": "stdout",
          "text": [
            "\u001b[2m\u001b[36m(launch_and_evaluate pid=3180)\u001b[0m 1/1 - 54s - loss: 0.6931 - accuracy: 0.5000 - 54s/epoch - 54s/step\n",
            "\u001b[2m\u001b[36m(launch_and_fit pid=3180)\u001b[0m ----------------------------ID is  1 ------------------------------------\n",
            "\u001b[2m\u001b[36m(launch_and_fit pid=3180)\u001b[0m Found 3000 images belonging to 2 classes.\n",
            "\u001b[2m\u001b[36m(launch_and_fit pid=3180)\u001b[0m Found 616 images belonging to 2 classes.\n",
            "\u001b[2m\u001b[36m(launch_and_fit pid=3180)\u001b[0m Epoch 1/5\n",
            "\u001b[2m\u001b[36m(launch_and_fit pid=3181)\u001b[0m Epoch 1/5\n",
            "\u001b[2m\u001b[36m(launch_and_fit pid=3181)\u001b[0m Found 616 images belonging to 2 classes.\u001b[32m [repeated 2x across cluster]\u001b[0m\n",
            "\u001b[2m\u001b[36m(launch_and_fit pid=3181)\u001b[0m Epoch 1/5\n",
            "\u001b[2m\u001b[36m(launch_and_fit pid=3180)\u001b[0m 1/1 - 113s - loss: 0.6913 - accuracy: 0.4375 - 113s/epoch - 113s/step\n",
            "\u001b[2m\u001b[36m(launch_and_fit pid=3180)\u001b[0m Epoch 2/5\n",
            "\u001b[2m\u001b[36m(launch_and_fit pid=3181)\u001b[0m Epoch 2/5\n",
            "\u001b[2m\u001b[36m(launch_and_fit pid=3181)\u001b[0m Epoch 2/5\n",
            "\u001b[2m\u001b[36m(launch_and_fit pid=3180)\u001b[0m 1/1 - 120s - loss: 1.5200 - accuracy: 0.4375 - 120s/epoch - 120s/step\n",
            "\u001b[2m\u001b[36m(launch_and_fit pid=3180)\u001b[0m Epoch 3/5\n",
            "\u001b[2m\u001b[36m(launch_and_fit pid=3181)\u001b[0m Epoch 3/5\n",
            "\u001b[2m\u001b[36m(launch_and_fit pid=3181)\u001b[0m Epoch 3/5\n",
            "\u001b[2m\u001b[36m(launch_and_fit pid=3180)\u001b[0m 1/1 - 123s - loss: 0.6953 - accuracy: 0.4375 - 123s/epoch - 123s/step\n",
            "\u001b[2m\u001b[36m(launch_and_fit pid=3180)\u001b[0m Epoch 4/5\n",
            "\u001b[2m\u001b[36m(launch_and_fit pid=3181)\u001b[0m Epoch 4/5\n",
            "\u001b[2m\u001b[36m(launch_and_fit pid=3181)\u001b[0m Epoch 4/5\n",
            "\u001b[2m\u001b[36m(launch_and_fit pid=3180)\u001b[0m 1/1 - 125s - loss: 0.6938 - accuracy: 0.4375 - 125s/epoch - 125s/step\n",
            "\u001b[2m\u001b[36m(launch_and_fit pid=3180)\u001b[0m Epoch 5/5\n",
            "\u001b[2m\u001b[36m(launch_and_fit pid=3181)\u001b[0m Epoch 5/5\n",
            "\u001b[2m\u001b[36m(launch_and_fit pid=3181)\u001b[0m Epoch 5/5\n",
            "\u001b[2m\u001b[36m(launch_and_fit pid=3180)\u001b[0m 1/1 - 118s - loss: 0.6927 - accuracy: 0.5625 - 118s/epoch - 118s/step\n",
            "\u001b[2m\u001b[36m(launch_and_fit pid=3180)\u001b[0m Fit history :  {'loss': [0.6913329362869263, 1.5199838876724243, 0.695287823677063, 0.6937643885612488, 0.6926591396331787], 'accuracy': [0.4375, 0.4375, 0.4375, 0.4375, 0.5625]}\n",
            "\u001b[2m\u001b[36m(launch_and_fit pid=3181)\u001b[0m Fit history :  {'loss': [0.6742205023765564, 1.262263298034668, 0.6901050806045532, 0.690576434135437, 0.6868530511856079], 'accuracy': [0.59375, 0.59375, 0.59375, 0.59375, 0.59375]}\n",
            "\u001b[2m\u001b[36m(launch_and_fit pid=3181)\u001b[0m Fit history :  {'loss': [0.6742205023765564, 1.262263298034668, 0.6901050806045532, 0.690576434135437, 0.6868530511856079], 'accuracy': [0.59375, 0.59375, 0.59375, 0.59375, 0.59375]}\n"
          ]
        },
        {
          "output_type": "stream",
          "name": "stderr",
          "text": [
            "DEBUG flwr 2023-04-28 12:12:11,928 | server.py:232 | fit_round 7 received 2 results and 0 failures\n",
            "DEBUG:flwr:fit_round 7 received 2 results and 0 failures\n"
          ]
        },
        {
          "output_type": "stream",
          "name": "stdout",
          "text": [
            "Saving round 7 aggregated_weights...\n"
          ]
        },
        {
          "output_type": "stream",
          "name": "stderr",
          "text": [
            "DEBUG flwr 2023-04-28 12:12:12,637 | server.py:168 | evaluate_round 7: strategy sampled 2 clients (out of 2)\n",
            "DEBUG:flwr:evaluate_round 7: strategy sampled 2 clients (out of 2)\n"
          ]
        },
        {
          "output_type": "stream",
          "name": "stdout",
          "text": [
            "\u001b[2m\u001b[36m(launch_and_evaluate pid=3180)\u001b[0m ----------------------------ID is  1 ------------------------------------\n",
            "\u001b[2m\u001b[36m(launch_and_evaluate pid=3180)\u001b[0m Found 3000 images belonging to 2 classes.\n",
            "\u001b[2m\u001b[36m(launch_and_evaluate pid=3180)\u001b[0m Found 616 images belonging to 2 classes.\n",
            "\u001b[2m\u001b[36m(launch_and_evaluate pid=3180)\u001b[0m 1/1 - 48s - loss: 0.6947 - accuracy: 0.4375 - 48s/epoch - 48s/step\n",
            "\u001b[2m\u001b[36m(launch_and_evaluate pid=3181)\u001b[0m 1/1 - 48s - loss: 0.6947 - accuracy: 0.4375 - 48s/epoch - 48s/step\n",
            "\u001b[2m\u001b[36m(launch_and_evaluate pid=3181)\u001b[0m Found 616 images belonging to 2 classes.\u001b[32m [repeated 2x across cluster]\u001b[0m\n"
          ]
        },
        {
          "output_type": "stream",
          "name": "stderr",
          "text": [
            "DEBUG flwr 2023-04-28 12:13:18,183 | server.py:182 | evaluate_round 7 received 2 results and 0 failures\n",
            "DEBUG:flwr:evaluate_round 7 received 2 results and 0 failures\n",
            "DEBUG flwr 2023-04-28 12:13:18,188 | server.py:218 | fit_round 8: strategy sampled 2 clients (out of 2)\n",
            "DEBUG:flwr:fit_round 8: strategy sampled 2 clients (out of 2)\n"
          ]
        },
        {
          "output_type": "stream",
          "name": "stdout",
          "text": [
            "\u001b[2m\u001b[36m(launch_and_evaluate pid=3181)\u001b[0m 1/1 - 46s - loss: 0.6940 - accuracy: 0.5000 - 46s/epoch - 46s/step\n",
            "\u001b[2m\u001b[36m(launch_and_fit pid=3181)\u001b[0m ----------------------------ID is  0 ------------------------------------\n",
            "\u001b[2m\u001b[36m(launch_and_fit pid=3180)\u001b[0m Found 3000 images belonging to 2 classes.\n",
            "\u001b[2m\u001b[36m(launch_and_fit pid=3180)\u001b[0m Epoch 1/5\n",
            "\u001b[2m\u001b[36m(launch_and_fit pid=3180)\u001b[0m Epoch 1/5\n",
            "\u001b[2m\u001b[36m(launch_and_fit pid=3181)\u001b[0m Found 616 images belonging to 2 classes.\u001b[32m [repeated 3x across cluster]\u001b[0m\n",
            "\u001b[2m\u001b[36m(launch_and_fit pid=3181)\u001b[0m Epoch 1/5\n",
            "\u001b[2m\u001b[36m(launch_and_fit pid=3180)\u001b[0m 1/1 - 112s - loss: 0.6928 - accuracy: 0.6250 - 112s/epoch - 112s/step\n",
            "\u001b[2m\u001b[36m(launch_and_fit pid=3180)\u001b[0m Epoch 2/5\n",
            "\u001b[2m\u001b[36m(launch_and_fit pid=3181)\u001b[0m Epoch 2/5\n",
            "\u001b[2m\u001b[36m(launch_and_fit pid=3181)\u001b[0m Epoch 2/5\n",
            "\u001b[2m\u001b[36m(launch_and_fit pid=3180)\u001b[0m 1/1 - 121s - loss: 0.9720 - accuracy: 0.6250 - 121s/epoch - 121s/step\n",
            "\u001b[2m\u001b[36m(launch_and_fit pid=3180)\u001b[0m Epoch 3/5\n",
            "\u001b[2m\u001b[36m(launch_and_fit pid=3181)\u001b[0m Epoch 3/5\n",
            "\u001b[2m\u001b[36m(launch_and_fit pid=3181)\u001b[0m Epoch 3/5\n",
            "\u001b[2m\u001b[36m(launch_and_fit pid=3180)\u001b[0m 1/1 - 122s - loss: 6.6313 - accuracy: 0.3750 - 122s/epoch - 122s/step\n",
            "\u001b[2m\u001b[36m(launch_and_fit pid=3180)\u001b[0m Epoch 4/5\n",
            "\u001b[2m\u001b[36m(launch_and_fit pid=3181)\u001b[0m Epoch 4/5\n",
            "\u001b[2m\u001b[36m(launch_and_fit pid=3181)\u001b[0m Epoch 4/5\n",
            "\u001b[2m\u001b[36m(launch_and_fit pid=3180)\u001b[0m 1/1 - 123s - loss: 0.6729 - accuracy: 0.6250 - 123s/epoch - 123s/step\n",
            "\u001b[2m\u001b[36m(launch_and_fit pid=3180)\u001b[0m Epoch 5/5\n",
            "\u001b[2m\u001b[36m(launch_and_fit pid=3181)\u001b[0m Epoch 5/5\n",
            "\u001b[2m\u001b[36m(launch_and_fit pid=3181)\u001b[0m Epoch 5/5\n",
            "\u001b[2m\u001b[36m(launch_and_fit pid=3180)\u001b[0m 1/1 - 123s - loss: 0.6699 - accuracy: 0.6250 - 123s/epoch - 123s/step\n",
            "\u001b[2m\u001b[36m(launch_and_fit pid=3180)\u001b[0m Fit history :  {'loss': [0.6927641034126282, 0.9720331430435181, 6.631283760070801, 0.6729335784912109, 0.6698966026306152], 'accuracy': [0.625, 0.625, 0.375, 0.625, 0.625]}\n",
            "\u001b[2m\u001b[36m(launch_and_fit pid=3181)\u001b[0m Fit history :  {'loss': [0.6936251521110535, 1.6546006202697754, 0.6931136250495911, 0.6943212151527405, 0.6929377317428589], 'accuracy': [0.5, 0.5, 0.5, 0.3125, 0.5]}\n",
            "\u001b[2m\u001b[36m(launch_and_fit pid=3181)\u001b[0m Fit history :  {'loss': [0.6936251521110535, 1.6546006202697754, 0.6931136250495911, 0.6943212151527405, 0.6929377317428589], 'accuracy': [0.5, 0.5, 0.5, 0.3125, 0.5]}\n"
          ]
        },
        {
          "output_type": "stream",
          "name": "stderr",
          "text": [
            "DEBUG flwr 2023-04-28 12:23:35,587 | server.py:232 | fit_round 8 received 2 results and 0 failures\n",
            "DEBUG:flwr:fit_round 8 received 2 results and 0 failures\n"
          ]
        },
        {
          "output_type": "stream",
          "name": "stdout",
          "text": [
            "Saving round 8 aggregated_weights...\n"
          ]
        },
        {
          "output_type": "stream",
          "name": "stderr",
          "text": [
            "DEBUG flwr 2023-04-28 12:23:36,290 | server.py:168 | evaluate_round 8: strategy sampled 2 clients (out of 2)\n",
            "DEBUG:flwr:evaluate_round 8: strategy sampled 2 clients (out of 2)\n"
          ]
        },
        {
          "output_type": "stream",
          "name": "stdout",
          "text": [
            "\u001b[2m\u001b[36m(launch_and_evaluate pid=3181)\u001b[0m ----------------------------ID is  1 ------------------------------------\n",
            "\u001b[2m\u001b[36m(launch_and_evaluate pid=3181)\u001b[0m Found 3000 images belonging to 2 classes.\n",
            "\u001b[2m\u001b[36m(launch_and_evaluate pid=3181)\u001b[0m 1/1 - 54s - loss: 0.6956 - accuracy: 0.4688 - 54s/epoch - 54s/step\n",
            "\u001b[2m\u001b[36m(launch_and_evaluate pid=3180)\u001b[0m 1/1 - 54s - loss: 0.6956 - accuracy: 0.4688 - 54s/epoch - 54s/step\n",
            "\u001b[2m\u001b[36m(launch_and_evaluate pid=3180)\u001b[0m Found 616 images belonging to 2 classes.\u001b[32m [repeated 3x across cluster]\u001b[0m\n"
          ]
        },
        {
          "output_type": "stream",
          "name": "stderr",
          "text": [
            "DEBUG flwr 2023-04-28 12:24:44,753 | server.py:182 | evaluate_round 8 received 2 results and 0 failures\n",
            "DEBUG:flwr:evaluate_round 8 received 2 results and 0 failures\n",
            "DEBUG flwr 2023-04-28 12:24:44,757 | server.py:218 | fit_round 9: strategy sampled 2 clients (out of 2)\n",
            "DEBUG:flwr:fit_round 9: strategy sampled 2 clients (out of 2)\n"
          ]
        },
        {
          "output_type": "stream",
          "name": "stdout",
          "text": [
            "\u001b[2m\u001b[36m(launch_and_fit pid=3180)\u001b[0m ----------------------------ID is  0 ------------------------------------\n",
            "\u001b[2m\u001b[36m(launch_and_evaluate pid=3180)\u001b[0m ----------------------------ID is  1 ------------------------------------\n",
            "\u001b[2m\u001b[36m(launch_and_fit pid=3180)\u001b[0m Found 3000 images belonging to 2 classes.\n",
            "\u001b[2m\u001b[36m(launch_and_fit pid=3180)\u001b[0m Found 616 images belonging to 2 classes.\n",
            "\u001b[2m\u001b[36m(launch_and_fit pid=3181)\u001b[0m Epoch 1/5\n",
            "\u001b[2m\u001b[36m(launch_and_fit pid=3181)\u001b[0m Epoch 1/5\n",
            "\u001b[2m\u001b[36m(launch_and_fit pid=3181)\u001b[0m Found 616 images belonging to 2 classes.\u001b[32m [repeated 2x across cluster]\u001b[0m\n",
            "\u001b[2m\u001b[36m(launch_and_fit pid=3180)\u001b[0m Epoch 1/5\n",
            "\u001b[2m\u001b[36m(launch_and_fit pid=3181)\u001b[0m 1/1 - 115s - loss: 0.6919 - accuracy: 0.5312 - 115s/epoch - 115s/step\n",
            "\u001b[2m\u001b[36m(launch_and_fit pid=3181)\u001b[0m Epoch 2/5\n",
            "\u001b[2m\u001b[36m(launch_and_fit pid=3180)\u001b[0m Epoch 2/5\n",
            "\u001b[2m\u001b[36m(launch_and_fit pid=3180)\u001b[0m Epoch 2/5\n",
            "\u001b[2m\u001b[36m(launch_and_fit pid=3181)\u001b[0m 1/1 - 124s - loss: 0.6940 - accuracy: 0.4375 - 124s/epoch - 124s/step\n",
            "\u001b[2m\u001b[36m(launch_and_fit pid=3181)\u001b[0m Epoch 3/5\n",
            "\u001b[2m\u001b[36m(launch_and_fit pid=3180)\u001b[0m Epoch 3/5\n",
            "\u001b[2m\u001b[36m(launch_and_fit pid=3180)\u001b[0m Epoch 3/5\n",
            "\u001b[2m\u001b[36m(launch_and_fit pid=3181)\u001b[0m 1/1 - 121s - loss: 0.6913 - accuracy: 0.5625 - 121s/epoch - 121s/step\n",
            "\u001b[2m\u001b[36m(launch_and_fit pid=3181)\u001b[0m Epoch 4/5\n",
            "\u001b[2m\u001b[36m(launch_and_fit pid=3180)\u001b[0m Epoch 4/5\n",
            "\u001b[2m\u001b[36m(launch_and_fit pid=3180)\u001b[0m Epoch 4/5\n",
            "\u001b[2m\u001b[36m(launch_and_fit pid=3181)\u001b[0m 1/1 - 123s - loss: 0.6887 - accuracy: 0.5625 - 123s/epoch - 123s/step\n",
            "\u001b[2m\u001b[36m(launch_and_fit pid=3181)\u001b[0m Epoch 5/5\n",
            "\u001b[2m\u001b[36m(launch_and_fit pid=3180)\u001b[0m Epoch 5/5\n",
            "\u001b[2m\u001b[36m(launch_and_fit pid=3180)\u001b[0m Epoch 5/5\n",
            "\u001b[2m\u001b[36m(launch_and_fit pid=3181)\u001b[0m 1/1 - 119s - loss: 0.6868 - accuracy: 0.5625 - 119s/epoch - 119s/step\n",
            "\u001b[2m\u001b[36m(launch_and_fit pid=3181)\u001b[0m Fit history :  {'loss': [0.6919224858283997, 0.6940400004386902, 0.6912825703620911, 0.6887213587760925, 0.6867729425430298], 'accuracy': [0.53125, 0.4375, 0.5625, 0.5625, 0.5625]}\n",
            "\u001b[2m\u001b[36m(launch_and_fit pid=3180)\u001b[0m Fit history :  {'loss': [0.6983264684677124, 0.6874604821205139, 0.6949915885925293, 0.6629738807678223, 0.6392937898635864], 'accuracy': [0.4375, 0.53125, 0.53125, 0.53125, 0.53125]}\n",
            "\u001b[2m\u001b[36m(launch_and_fit pid=3180)\u001b[0m Fit history :  {'loss': [0.6983264684677124, 0.6874604821205139, 0.6949915885925293, 0.6629738807678223, 0.6392937898635864], 'accuracy': [0.4375, 0.53125, 0.53125, 0.53125, 0.53125]}\n"
          ]
        },
        {
          "output_type": "stream",
          "name": "stderr",
          "text": [
            "DEBUG flwr 2023-04-28 12:35:05,094 | server.py:232 | fit_round 9 received 2 results and 0 failures\n",
            "DEBUG:flwr:fit_round 9 received 2 results and 0 failures\n"
          ]
        },
        {
          "output_type": "stream",
          "name": "stdout",
          "text": [
            "Saving round 9 aggregated_weights...\n"
          ]
        },
        {
          "output_type": "stream",
          "name": "stderr",
          "text": [
            "DEBUG flwr 2023-04-28 12:35:05,966 | server.py:168 | evaluate_round 9: strategy sampled 2 clients (out of 2)\n",
            "DEBUG:flwr:evaluate_round 9: strategy sampled 2 clients (out of 2)\n"
          ]
        },
        {
          "output_type": "stream",
          "name": "stdout",
          "text": [
            "\u001b[2m\u001b[36m(launch_and_evaluate pid=3180)\u001b[0m ----------------------------ID is  1 ------------------------------------\n",
            "\u001b[2m\u001b[36m(launch_and_evaluate pid=3180)\u001b[0m Found 3000 images belonging to 2 classes.\n",
            "\u001b[2m\u001b[36m(launch_and_evaluate pid=3180)\u001b[0m Found 616 images belonging to 2 classes.\n",
            "\u001b[2m\u001b[36m(launch_and_evaluate pid=3180)\u001b[0m 1/1 - 50s - loss: 0.6948 - accuracy: 0.4375 - 50s/epoch - 50s/step\n",
            "\u001b[2m\u001b[36m(launch_and_evaluate pid=3181)\u001b[0m 1/1 - 50s - loss: 0.6948 - accuracy: 0.4375 - 50s/epoch - 50s/step\n",
            "\u001b[2m\u001b[36m(launch_and_evaluate pid=3181)\u001b[0m Found 616 images belonging to 2 classes.\u001b[32m [repeated 2x across cluster]\u001b[0m\n"
          ]
        },
        {
          "output_type": "stream",
          "name": "stderr",
          "text": [
            "DEBUG flwr 2023-04-28 12:36:12,479 | server.py:182 | evaluate_round 9 received 2 results and 0 failures\n",
            "DEBUG:flwr:evaluate_round 9 received 2 results and 0 failures\n",
            "DEBUG flwr 2023-04-28 12:36:12,483 | server.py:218 | fit_round 10: strategy sampled 2 clients (out of 2)\n",
            "DEBUG:flwr:fit_round 10: strategy sampled 2 clients (out of 2)\n"
          ]
        },
        {
          "output_type": "stream",
          "name": "stdout",
          "text": [
            "\u001b[2m\u001b[36m(launch_and_evaluate pid=3181)\u001b[0m 1/1 - 51s - loss: 0.6917 - accuracy: 0.5625 - 51s/epoch - 51s/step\n",
            "\u001b[2m\u001b[36m(launch_and_fit pid=3180)\u001b[0m ----------------------------ID is  0 ------------------------------------\n",
            "\u001b[2m\u001b[36m(launch_and_fit pid=3180)\u001b[0m Found 3000 images belonging to 2 classes.\n",
            "\u001b[2m\u001b[36m(launch_and_fit pid=3181)\u001b[0m Epoch 1/5\n",
            "\u001b[2m\u001b[36m(launch_and_fit pid=3181)\u001b[0m Epoch 1/5\n",
            "\u001b[2m\u001b[36m(launch_and_fit pid=3181)\u001b[0m Found 616 images belonging to 2 classes.\u001b[32m [repeated 3x across cluster]\u001b[0m\n",
            "\u001b[2m\u001b[36m(launch_and_fit pid=3180)\u001b[0m Epoch 1/5\n",
            "\u001b[2m\u001b[36m(launch_and_fit pid=3181)\u001b[0m 1/1 - 117s - loss: 0.6901 - accuracy: 0.6250 - 117s/epoch - 117s/step\n",
            "\u001b[2m\u001b[36m(launch_and_fit pid=3181)\u001b[0m Epoch 2/5\n",
            "\u001b[2m\u001b[36m(launch_and_fit pid=3180)\u001b[0m Epoch 2/5\n",
            "\u001b[2m\u001b[36m(launch_and_fit pid=3180)\u001b[0m Epoch 2/5\n",
            "\u001b[2m\u001b[36m(launch_and_fit pid=3181)\u001b[0m 1/1 - 122s - loss: 0.6883 - accuracy: 0.6250 - 122s/epoch - 122s/step\n",
            "\u001b[2m\u001b[36m(launch_and_fit pid=3181)\u001b[0m Epoch 3/5\n",
            "\u001b[2m\u001b[36m(launch_and_fit pid=3180)\u001b[0m Epoch 3/5\n",
            "\u001b[2m\u001b[36m(launch_and_fit pid=3180)\u001b[0m Epoch 3/5\n",
            "\u001b[2m\u001b[36m(launch_and_fit pid=3181)\u001b[0m 1/1 - 121s - loss: 0.6867 - accuracy: 0.6250 - 121s/epoch - 121s/step\n",
            "\u001b[2m\u001b[36m(launch_and_fit pid=3181)\u001b[0m Epoch 4/5\n",
            "\u001b[2m\u001b[36m(launch_and_fit pid=3180)\u001b[0m Epoch 4/5\n",
            "\u001b[2m\u001b[36m(launch_and_fit pid=3180)\u001b[0m Epoch 4/5\n",
            "\u001b[2m\u001b[36m(launch_and_fit pid=3181)\u001b[0m 1/1 - 118s - loss: 0.6852 - accuracy: 0.6250 - 118s/epoch - 118s/step\n",
            "\u001b[2m\u001b[36m(launch_and_fit pid=3181)\u001b[0m Epoch 5/5\n",
            "\u001b[2m\u001b[36m(launch_and_fit pid=3180)\u001b[0m Epoch 5/5\n",
            "\u001b[2m\u001b[36m(launch_and_fit pid=3180)\u001b[0m Epoch 5/5\n",
            "\u001b[2m\u001b[36m(launch_and_fit pid=3181)\u001b[0m 1/1 - 119s - loss: 0.6837 - accuracy: 0.6250 - 119s/epoch - 119s/step\n",
            "\u001b[2m\u001b[36m(launch_and_fit pid=3181)\u001b[0m Fit history :  {'loss': [0.6900879740715027, 0.6882988214492798, 0.6867311000823975, 0.6852092146873474, 0.6837037801742554], 'accuracy': [0.625, 0.625, 0.625, 0.625, 0.625]}\n",
            "\u001b[2m\u001b[36m(launch_and_fit pid=3180)\u001b[0m Fit history :  {'loss': [0.6908724308013916, 0.6895636916160583, 0.6884307861328125, 0.6873446106910706, 0.6862850785255432], 'accuracy': [0.59375, 0.59375, 0.59375, 0.59375, 0.59375]}\n",
            "\u001b[2m\u001b[36m(launch_and_fit pid=3180)\u001b[0m Fit history :  {'loss': [0.6908724308013916, 0.6895636916160583, 0.6884307861328125, 0.6873446106910706, 0.6862850785255432], 'accuracy': [0.59375, 0.59375, 0.59375, 0.59375, 0.59375]}\n"
          ]
        },
        {
          "output_type": "stream",
          "name": "stderr",
          "text": [
            "DEBUG flwr 2023-04-28 12:46:33,555 | server.py:232 | fit_round 10 received 2 results and 0 failures\n",
            "DEBUG:flwr:fit_round 10 received 2 results and 0 failures\n"
          ]
        },
        {
          "output_type": "stream",
          "name": "stdout",
          "text": [
            "Saving round 10 aggregated_weights...\n"
          ]
        },
        {
          "output_type": "stream",
          "name": "stderr",
          "text": [
            "DEBUG flwr 2023-04-28 12:46:34,211 | server.py:168 | evaluate_round 10: strategy sampled 2 clients (out of 2)\n",
            "DEBUG:flwr:evaluate_round 10: strategy sampled 2 clients (out of 2)\n"
          ]
        },
        {
          "output_type": "stream",
          "name": "stdout",
          "text": [
            "\u001b[2m\u001b[36m(launch_and_evaluate pid=3181)\u001b[0m ----------------------------ID is  0 ------------------------------------\n",
            "\u001b[2m\u001b[36m(launch_and_evaluate pid=3181)\u001b[0m Found 3000 images belonging to 2 classes.\n",
            "\u001b[2m\u001b[36m(launch_and_evaluate pid=3181)\u001b[0m Found 616 images belonging to 2 classes.\n",
            "\u001b[2m\u001b[36m(launch_and_evaluate pid=3180)\u001b[0m 1/1 - 47s - loss: 0.7004 - accuracy: 0.4375 - 47s/epoch - 47s/step\n",
            "\u001b[2m\u001b[36m(launch_and_evaluate pid=3180)\u001b[0m 1/1 - 47s - loss: 0.7004 - accuracy: 0.4375 - 47s/epoch - 47s/step\n",
            "\u001b[2m\u001b[36m(launch_and_evaluate pid=3180)\u001b[0m Found 616 images belonging to 2 classes.\u001b[32m [repeated 2x across cluster]\u001b[0m\n"
          ]
        },
        {
          "output_type": "stream",
          "name": "stderr",
          "text": [
            "DEBUG flwr 2023-04-28 12:47:39,341 | server.py:182 | evaluate_round 10 received 2 results and 0 failures\n",
            "DEBUG:flwr:evaluate_round 10 received 2 results and 0 failures\n",
            "DEBUG flwr 2023-04-28 12:47:39,351 | server.py:218 | fit_round 11: strategy sampled 2 clients (out of 2)\n",
            "DEBUG:flwr:fit_round 11: strategy sampled 2 clients (out of 2)\n"
          ]
        },
        {
          "output_type": "stream",
          "name": "stdout",
          "text": [
            "\u001b[2m\u001b[36m(launch_and_evaluate pid=3181)\u001b[0m 1/1 - 48s - loss: 0.6852 - accuracy: 0.5938 - 48s/epoch - 48s/step\n",
            "\u001b[2m\u001b[36m(launch_and_fit pid=3180)\u001b[0m ----------------------------ID is  1 ------------------------------------\n",
            "\u001b[2m\u001b[36m(launch_and_fit pid=3180)\u001b[0m Found 3000 images belonging to 2 classes.\n",
            "\u001b[2m\u001b[36m(launch_and_fit pid=3180)\u001b[0m Epoch 1/5\n",
            "\u001b[2m\u001b[36m(launch_and_fit pid=3181)\u001b[0m Epoch 1/5\n",
            "\u001b[2m\u001b[36m(launch_and_fit pid=3181)\u001b[0m Found 616 images belonging to 2 classes.\u001b[32m [repeated 3x across cluster]\u001b[0m\n",
            "\u001b[2m\u001b[36m(launch_and_fit pid=3180)\u001b[0m 1/1 - 125s - loss: 0.6913 - accuracy: 0.5312 - 125s/epoch - 125s/step\n",
            "\u001b[2m\u001b[36m(launch_and_fit pid=3180)\u001b[0m Epoch 2/5\u001b[32m [repeated 2x across cluster]\u001b[0m\n",
            "\u001b[2m\u001b[36m(launch_and_fit pid=3181)\u001b[0m Epoch 2/5\n",
            "\u001b[2m\u001b[36m(launch_and_fit pid=3181)\u001b[0m Epoch 2/5\n",
            "\u001b[2m\u001b[36m(launch_and_fit pid=3180)\u001b[0m 1/1 - 122s - loss: 0.6912 - accuracy: 0.5312 - 122s/epoch - 122s/step\n",
            "\u001b[2m\u001b[36m(launch_and_fit pid=3180)\u001b[0m Epoch 3/5\n",
            "\u001b[2m\u001b[36m(launch_and_fit pid=3181)\u001b[0m Epoch 3/5\n",
            "\u001b[2m\u001b[36m(launch_and_fit pid=3181)\u001b[0m Epoch 3/5\n",
            "\u001b[2m\u001b[36m(launch_and_fit pid=3180)\u001b[0m 1/1 - 124s - loss: 0.6912 - accuracy: 0.5312 - 124s/epoch - 124s/step\n",
            "\u001b[2m\u001b[36m(launch_and_fit pid=3180)\u001b[0m Epoch 4/5\n",
            "\u001b[2m\u001b[36m(launch_and_fit pid=3181)\u001b[0m Epoch 4/5\n",
            "\u001b[2m\u001b[36m(launch_and_fit pid=3181)\u001b[0m Epoch 4/5\n",
            "\u001b[2m\u001b[36m(launch_and_fit pid=3180)\u001b[0m 1/1 - 122s - loss: 0.6912 - accuracy: 0.5312 - 122s/epoch - 122s/step\n",
            "\u001b[2m\u001b[36m(launch_and_fit pid=3180)\u001b[0m Epoch 5/5\n",
            "\u001b[2m\u001b[36m(launch_and_fit pid=3181)\u001b[0m Epoch 5/5\n",
            "\u001b[2m\u001b[36m(launch_and_fit pid=3181)\u001b[0m Epoch 5/5\n",
            "\u001b[2m\u001b[36m(launch_and_fit pid=3180)\u001b[0m 1/1 - 119s - loss: 0.6912 - accuracy: 0.5312 - 119s/epoch - 119s/step\n",
            "\u001b[2m\u001b[36m(launch_and_fit pid=3180)\u001b[0m Fit history :  {'loss': [0.6912930607795715, 0.6912171840667725, 0.6911928057670593, 0.6912088394165039, 0.6912254095077515], 'accuracy': [0.53125, 0.53125, 0.53125, 0.53125, 0.53125]}\n"
          ]
        },
        {
          "output_type": "stream",
          "name": "stderr",
          "text": [
            "DEBUG flwr 2023-04-28 12:58:02,440 | server.py:232 | fit_round 11 received 2 results and 0 failures\n",
            "DEBUG:flwr:fit_round 11 received 2 results and 0 failures\n"
          ]
        },
        {
          "output_type": "stream",
          "name": "stdout",
          "text": [
            "Saving round 11 aggregated_weights...\n"
          ]
        },
        {
          "output_type": "stream",
          "name": "stderr",
          "text": [
            "DEBUG flwr 2023-04-28 12:58:03,008 | server.py:168 | evaluate_round 11: strategy sampled 2 clients (out of 2)\n",
            "DEBUG:flwr:evaluate_round 11: strategy sampled 2 clients (out of 2)\n"
          ]
        },
        {
          "output_type": "stream",
          "name": "stdout",
          "text": [
            "\u001b[2m\u001b[36m(launch_and_evaluate pid=3180)\u001b[0m ----------------------------ID is  1 ------------------------------------\n",
            "\u001b[2m\u001b[36m(launch_and_fit pid=3181)\u001b[0m ----------------------------ID is  1 ------------------------------------\n",
            "\u001b[2m\u001b[36m(launch_and_fit pid=3181)\u001b[0m ----------------------------ID is  1 ------------------------------------\n",
            "\u001b[2m\u001b[36m(launch_and_evaluate pid=3180)\u001b[0m Found 3000 images belonging to 2 classes.\n",
            "\u001b[2m\u001b[36m(launch_and_evaluate pid=3180)\u001b[0m 1/1 - 51s - loss: 0.6837 - accuracy: 0.6250 - 51s/epoch - 51s/step\n",
            "\u001b[2m\u001b[36m(launch_and_evaluate pid=3181)\u001b[0m 1/1 - 51s - loss: 0.6837 - accuracy: 0.6250 - 51s/epoch - 51s/step\n",
            "\u001b[2m\u001b[36m(launch_and_evaluate pid=3181)\u001b[0m Found 616 images belonging to 2 classes.\u001b[32m [repeated 3x across cluster]\u001b[0m\n"
          ]
        },
        {
          "output_type": "stream",
          "name": "stderr",
          "text": [
            "DEBUG flwr 2023-04-28 12:59:10,395 | server.py:182 | evaluate_round 11 received 2 results and 0 failures\n",
            "DEBUG:flwr:evaluate_round 11 received 2 results and 0 failures\n",
            "DEBUG flwr 2023-04-28 12:59:10,400 | server.py:218 | fit_round 12: strategy sampled 2 clients (out of 2)\n",
            "DEBUG:flwr:fit_round 12: strategy sampled 2 clients (out of 2)\n"
          ]
        },
        {
          "output_type": "stream",
          "name": "stdout",
          "text": [
            "\u001b[2m\u001b[36m(launch_and_evaluate pid=3181)\u001b[0m 1/1 - 52s - loss: 0.6966 - accuracy: 0.4688 - 52s/epoch - 52s/step\n",
            "\u001b[2m\u001b[36m(launch_and_fit pid=3180)\u001b[0m ----------------------------ID is  0 ------------------------------------\n",
            "\u001b[2m\u001b[36m(launch_and_fit pid=3180)\u001b[0m Found 3000 images belonging to 2 classes.\n",
            "\u001b[2m\u001b[36m(launch_and_fit pid=3181)\u001b[0m Epoch 1/5\n",
            "\u001b[2m\u001b[36m(launch_and_fit pid=3181)\u001b[0m Epoch 1/5\n",
            "\u001b[2m\u001b[36m(launch_and_fit pid=3181)\u001b[0m Found 616 images belonging to 2 classes.\u001b[32m [repeated 3x across cluster]\u001b[0m\n",
            "\u001b[2m\u001b[36m(launch_and_fit pid=3180)\u001b[0m Epoch 1/5\n",
            "\u001b[2m\u001b[36m(launch_and_fit pid=3181)\u001b[0m 1/1 - 118s - loss: 0.6914 - accuracy: 0.5312 - 118s/epoch - 118s/step\n",
            "\u001b[2m\u001b[36m(launch_and_fit pid=3181)\u001b[0m Epoch 2/5\n",
            "\u001b[2m\u001b[36m(launch_and_fit pid=3180)\u001b[0m 1/1 - 127s - loss: 0.6888 - accuracy: 0.5625 - 127s/epoch - 127s/step\n",
            "\u001b[2m\u001b[36m(launch_and_fit pid=3180)\u001b[0m Epoch 2/5\n",
            "\u001b[2m\u001b[36m(launch_and_fit pid=3181)\u001b[0m 1/1 - 121s - loss: 0.6913 - accuracy: 0.5312 - 121s/epoch - 121s/step\n",
            "\u001b[2m\u001b[36m(launch_and_fit pid=3181)\u001b[0m Epoch 3/5\n",
            "\u001b[2m\u001b[36m(launch_and_fit pid=3180)\u001b[0m Epoch 3/5\n",
            "\u001b[2m\u001b[36m(launch_and_fit pid=3180)\u001b[0m Epoch 3/5\n",
            "\u001b[2m\u001b[36m(launch_and_fit pid=3181)\u001b[0m 1/1 - 120s - loss: 0.6912 - accuracy: 0.5312 - 120s/epoch - 120s/step\n",
            "\u001b[2m\u001b[36m(launch_and_fit pid=3181)\u001b[0m Epoch 4/5\n",
            "\u001b[2m\u001b[36m(launch_and_fit pid=3180)\u001b[0m Epoch 4/5\n",
            "\u001b[2m\u001b[36m(launch_and_fit pid=3180)\u001b[0m Epoch 4/5\n",
            "\u001b[2m\u001b[36m(launch_and_fit pid=3181)\u001b[0m 1/1 - 120s - loss: 0.6912 - accuracy: 0.5312 - 120s/epoch - 120s/step\n",
            "\u001b[2m\u001b[36m(launch_and_fit pid=3181)\u001b[0m Epoch 5/5\n",
            "\u001b[2m\u001b[36m(launch_and_fit pid=3180)\u001b[0m Epoch 5/5\n",
            "\u001b[2m\u001b[36m(launch_and_fit pid=3180)\u001b[0m Epoch 5/5\n",
            "\u001b[2m\u001b[36m(launch_and_fit pid=3181)\u001b[0m 1/1 - 121s - loss: 0.6912 - accuracy: 0.5312 - 121s/epoch - 121s/step\n",
            "\u001b[2m\u001b[36m(launch_and_fit pid=3181)\u001b[0m Fit history :  {'loss': [0.6914215087890625, 0.6912945508956909, 0.6912175416946411, 0.6911928057670593, 0.6912088990211487], 'accuracy': [0.53125, 0.53125, 0.53125, 0.53125, 0.53125]}\n"
          ]
        },
        {
          "output_type": "stream",
          "name": "stderr",
          "text": [
            "DEBUG flwr 2023-04-28 13:09:26,997 | server.py:232 | fit_round 12 received 2 results and 0 failures\n",
            "DEBUG:flwr:fit_round 12 received 2 results and 0 failures\n"
          ]
        },
        {
          "output_type": "stream",
          "name": "stdout",
          "text": [
            "\u001b[2m\u001b[36m(launch_and_fit pid=3180)\u001b[0m Fit history :  {'loss': [0.6888490915298462, 0.6882660388946533, 0.6877151727676392, 0.6872069239616394, 0.6867481470108032], 'accuracy': [0.5625, 0.5625, 0.5625, 0.5625, 0.5625]}\n",
            "\u001b[2m\u001b[36m(launch_and_fit pid=3180)\u001b[0m Fit history :  {'loss': [0.6888490915298462, 0.6882660388946533, 0.6877151727676392, 0.6872069239616394, 0.6867481470108032], 'accuracy': [0.5625, 0.5625, 0.5625, 0.5625, 0.5625]}\n",
            "Saving round 12 aggregated_weights...\n"
          ]
        },
        {
          "output_type": "stream",
          "name": "stderr",
          "text": [
            "DEBUG flwr 2023-04-28 13:09:27,529 | server.py:168 | evaluate_round 12: strategy sampled 2 clients (out of 2)\n",
            "DEBUG:flwr:evaluate_round 12: strategy sampled 2 clients (out of 2)\n"
          ]
        },
        {
          "output_type": "stream",
          "name": "stdout",
          "text": [
            "\u001b[2m\u001b[36m(launch_and_evaluate pid=3180)\u001b[0m ----------------------------ID is  0 ------------------------------------\n",
            "\u001b[2m\u001b[36m(launch_and_evaluate pid=3180)\u001b[0m Found 3000 images belonging to 2 classes.\n",
            "\u001b[2m\u001b[36m(launch_and_evaluate pid=3180)\u001b[0m Found 616 images belonging to 2 classes.\n",
            "\u001b[2m\u001b[36m(launch_and_evaluate pid=3181)\u001b[0m 1/1 - 51s - loss: 0.7245 - accuracy: 0.3125 - 51s/epoch - 51s/step\n",
            "\u001b[2m\u001b[36m(launch_and_evaluate pid=3181)\u001b[0m 1/1 - 51s - loss: 0.7245 - accuracy: 0.3125 - 51s/epoch - 51s/step\n",
            "\u001b[2m\u001b[36m(launch_and_evaluate pid=3181)\u001b[0m Found 616 images belonging to 2 classes.\u001b[32m [repeated 2x across cluster]\u001b[0m\n"
          ]
        },
        {
          "output_type": "stream",
          "name": "stderr",
          "text": [
            "DEBUG flwr 2023-04-28 13:10:31,357 | server.py:182 | evaluate_round 12 received 2 results and 0 failures\n",
            "DEBUG:flwr:evaluate_round 12 received 2 results and 0 failures\n",
            "DEBUG flwr 2023-04-28 13:10:31,365 | server.py:218 | fit_round 13: strategy sampled 2 clients (out of 2)\n",
            "DEBUG:flwr:fit_round 13: strategy sampled 2 clients (out of 2)\n"
          ]
        },
        {
          "output_type": "stream",
          "name": "stdout",
          "text": [
            "\u001b[2m\u001b[36m(launch_and_evaluate pid=3180)\u001b[0m 1/1 - 51s - loss: 0.7055 - accuracy: 0.4375 - 51s/epoch - 51s/step\n",
            "\u001b[2m\u001b[36m(launch_and_fit pid=3180)\u001b[0m ----------------------------ID is  1 ------------------------------------\n",
            "\u001b[2m\u001b[36m(launch_and_fit pid=3180)\u001b[0m Found 3000 images belonging to 2 classes.\n",
            "\u001b[2m\u001b[36m(launch_and_fit pid=3180)\u001b[0m Epoch 1/5\n",
            "\u001b[2m\u001b[36m(launch_and_fit pid=3181)\u001b[0m Epoch 1/5\n",
            "\u001b[2m\u001b[36m(launch_and_fit pid=3181)\u001b[0m Found 616 images belonging to 2 classes.\u001b[32m [repeated 3x across cluster]\u001b[0m\n",
            "\u001b[2m\u001b[36m(launch_and_fit pid=3180)\u001b[0m 1/1 - 120s - loss: 0.7055 - accuracy: 0.4375 - 120s/epoch - 120s/step\n",
            "\u001b[2m\u001b[36m(launch_and_fit pid=3180)\u001b[0m Epoch 2/5\u001b[32m [repeated 2x across cluster]\u001b[0m\n",
            "\u001b[2m\u001b[36m(launch_and_fit pid=3181)\u001b[0m Epoch 2/5\n",
            "\u001b[2m\u001b[36m(launch_and_fit pid=3181)\u001b[0m Epoch 2/5\n",
            "\u001b[2m\u001b[36m(launch_and_fit pid=3180)\u001b[0m 1/1 - 123s - loss: 0.7038 - accuracy: 0.4375 - 123s/epoch - 123s/step\n",
            "\u001b[2m\u001b[36m(launch_and_fit pid=3180)\u001b[0m Epoch 3/5\n",
            "\u001b[2m\u001b[36m(launch_and_fit pid=3181)\u001b[0m Epoch 3/5\n",
            "\u001b[2m\u001b[36m(launch_and_fit pid=3181)\u001b[0m Epoch 3/5\n",
            "\u001b[2m\u001b[36m(launch_and_fit pid=3180)\u001b[0m 1/1 - 120s - loss: 0.7023 - accuracy: 0.4375 - 120s/epoch - 120s/step\n",
            "\u001b[2m\u001b[36m(launch_and_fit pid=3180)\u001b[0m Epoch 4/5\n",
            "\u001b[2m\u001b[36m(launch_and_fit pid=3181)\u001b[0m Epoch 4/5\n",
            "\u001b[2m\u001b[36m(launch_and_fit pid=3181)\u001b[0m Epoch 4/5\n",
            "\u001b[2m\u001b[36m(launch_and_fit pid=3180)\u001b[0m 1/1 - 124s - loss: 0.7008 - accuracy: 0.4375 - 124s/epoch - 124s/step\n",
            "\u001b[2m\u001b[36m(launch_and_fit pid=3180)\u001b[0m Epoch 5/5\n",
            "\u001b[2m\u001b[36m(launch_and_fit pid=3181)\u001b[0m 1/1 - 125s - loss: 0.7040 - accuracy: 0.4062 - 125s/epoch - 125s/step\n",
            "\u001b[2m\u001b[36m(launch_and_fit pid=3181)\u001b[0m Epoch 5/5\n",
            "\u001b[2m\u001b[36m(launch_and_fit pid=3180)\u001b[0m 1/1 - 125s - loss: 0.6996 - accuracy: 0.4375 - 125s/epoch - 125s/step\n",
            "\u001b[2m\u001b[36m(launch_and_fit pid=3180)\u001b[0m Fit history :  {'loss': [0.7055163383483887, 0.7038173079490662, 0.7022600173950195, 0.7008368968963623, 0.6995531320571899], 'accuracy': [0.4375, 0.4375, 0.4375, 0.4375, 0.4375]}\n"
          ]
        },
        {
          "output_type": "stream",
          "name": "stderr",
          "text": [
            "DEBUG flwr 2023-04-28 13:20:56,752 | server.py:232 | fit_round 13 received 2 results and 0 failures\n",
            "DEBUG:flwr:fit_round 13 received 2 results and 0 failures\n"
          ]
        },
        {
          "output_type": "stream",
          "name": "stdout",
          "text": [
            "Saving round 13 aggregated_weights...\n"
          ]
        },
        {
          "output_type": "stream",
          "name": "stderr",
          "text": [
            "DEBUG flwr 2023-04-28 13:20:57,265 | server.py:168 | evaluate_round 13: strategy sampled 2 clients (out of 2)\n",
            "DEBUG:flwr:evaluate_round 13: strategy sampled 2 clients (out of 2)\n"
          ]
        },
        {
          "output_type": "stream",
          "name": "stdout",
          "text": [
            "\u001b[2m\u001b[36m(launch_and_evaluate pid=3180)\u001b[0m ----------------------------ID is  0 ------------------------------------\n",
            "\u001b[2m\u001b[36m(launch_and_fit pid=3181)\u001b[0m ----------------------------ID is  0 ------------------------------------\n",
            "\u001b[2m\u001b[36m(launch_and_fit pid=3181)\u001b[0m ----------------------------ID is  0 ------------------------------------\n",
            "\u001b[2m\u001b[36m(launch_and_evaluate pid=3181)\u001b[0m Found 3000 images belonging to 2 classes.\n",
            "\u001b[2m\u001b[36m(launch_and_evaluate pid=3181)\u001b[0m 1/1 - 53s - loss: 0.7007 - accuracy: 0.4062 - 53s/epoch - 53s/step\n",
            "\u001b[2m\u001b[36m(launch_and_evaluate pid=3181)\u001b[0m 1/1 - 53s - loss: 0.7007 - accuracy: 0.4062 - 53s/epoch - 53s/step\n",
            "\u001b[2m\u001b[36m(launch_and_evaluate pid=3180)\u001b[0m Found 616 images belonging to 2 classes.\u001b[32m [repeated 3x across cluster]\u001b[0m\n"
          ]
        },
        {
          "output_type": "stream",
          "name": "stderr",
          "text": [
            "DEBUG flwr 2023-04-28 13:22:01,635 | server.py:182 | evaluate_round 13 received 2 results and 0 failures\n",
            "DEBUG:flwr:evaluate_round 13 received 2 results and 0 failures\n",
            "DEBUG flwr 2023-04-28 13:22:01,643 | server.py:218 | fit_round 14: strategy sampled 2 clients (out of 2)\n",
            "DEBUG:flwr:fit_round 14: strategy sampled 2 clients (out of 2)\n"
          ]
        },
        {
          "output_type": "stream",
          "name": "stdout",
          "text": [
            "\u001b[2m\u001b[36m(launch_and_fit pid=3180)\u001b[0m ----------------------------ID is  1 ------------------------------------\n",
            "\u001b[2m\u001b[36m(launch_and_evaluate pid=3180)\u001b[0m ----------------------------ID is  1 ------------------------------------\n",
            "\u001b[2m\u001b[36m(launch_and_fit pid=3180)\u001b[0m Found 3000 images belonging to 2 classes.\n",
            "\u001b[2m\u001b[36m(launch_and_fit pid=3180)\u001b[0m Epoch 1/5\n",
            "\u001b[2m\u001b[36m(launch_and_fit pid=3181)\u001b[0m Epoch 1/5\n",
            "\u001b[2m\u001b[36m(launch_and_fit pid=3181)\u001b[0m Found 616 images belonging to 2 classes.\u001b[32m [repeated 3x across cluster]\u001b[0m\n",
            "\u001b[2m\u001b[36m(launch_and_fit pid=3180)\u001b[0m 1/1 - 122s - loss: 0.6961 - accuracy: 0.4688 - 122s/epoch - 122s/step\n",
            "\u001b[2m\u001b[36m(launch_and_fit pid=3180)\u001b[0m Epoch 2/5\u001b[32m [repeated 2x across cluster]\u001b[0m\n",
            "\u001b[2m\u001b[36m(launch_and_fit pid=3181)\u001b[0m Epoch 2/5\n",
            "\u001b[2m\u001b[36m(launch_and_fit pid=3181)\u001b[0m Epoch 2/5\n",
            "\u001b[2m\u001b[36m(launch_and_fit pid=3180)\u001b[0m 1/1 - 121s - loss: 0.6954 - accuracy: 0.4688 - 121s/epoch - 121s/step\n",
            "\u001b[2m\u001b[36m(launch_and_fit pid=3180)\u001b[0m Epoch 3/5\n",
            "\u001b[2m\u001b[36m(launch_and_fit pid=3181)\u001b[0m Epoch 3/5\n",
            "\u001b[2m\u001b[36m(launch_and_fit pid=3181)\u001b[0m Epoch 3/5\n",
            "\u001b[2m\u001b[36m(launch_and_fit pid=3180)\u001b[0m 1/1 - 122s - loss: 0.6949 - accuracy: 0.4688 - 122s/epoch - 122s/step\n",
            "\u001b[2m\u001b[36m(launch_and_fit pid=3180)\u001b[0m Epoch 4/5\n",
            "\u001b[2m\u001b[36m(launch_and_fit pid=3181)\u001b[0m Epoch 4/5\n",
            "\u001b[2m\u001b[36m(launch_and_fit pid=3181)\u001b[0m Epoch 4/5\n",
            "\u001b[2m\u001b[36m(launch_and_fit pid=3180)\u001b[0m 1/1 - 119s - loss: 0.6943 - accuracy: 0.4688 - 119s/epoch - 119s/step\n",
            "\u001b[2m\u001b[36m(launch_and_fit pid=3180)\u001b[0m Epoch 5/5\n",
            "\u001b[2m\u001b[36m(launch_and_fit pid=3181)\u001b[0m Epoch 5/5\n",
            "\u001b[2m\u001b[36m(launch_and_fit pid=3181)\u001b[0m Epoch 5/5\n",
            "\u001b[2m\u001b[36m(launch_and_fit pid=3180)\u001b[0m 1/1 - 123s - loss: 0.6939 - accuracy: 0.4688 - 123s/epoch - 123s/step\n",
            "\u001b[2m\u001b[36m(launch_and_fit pid=3180)\u001b[0m Fit history :  {'loss': [0.6961009502410889, 0.695445716381073, 0.6948559284210205, 0.6943369507789612, 0.6938732862472534], 'accuracy': [0.46875, 0.46875, 0.46875, 0.46875, 0.46875]}\n"
          ]
        },
        {
          "output_type": "stream",
          "name": "stderr",
          "text": [
            "DEBUG flwr 2023-04-28 13:32:24,359 | server.py:232 | fit_round 14 received 2 results and 0 failures\n",
            "DEBUG:flwr:fit_round 14 received 2 results and 0 failures\n"
          ]
        },
        {
          "output_type": "stream",
          "name": "stdout",
          "text": [
            "Saving round 14 aggregated_weights...\n"
          ]
        },
        {
          "output_type": "stream",
          "name": "stderr",
          "text": [
            "DEBUG flwr 2023-04-28 13:32:24,937 | server.py:168 | evaluate_round 14: strategy sampled 2 clients (out of 2)\n",
            "DEBUG:flwr:evaluate_round 14: strategy sampled 2 clients (out of 2)\n"
          ]
        },
        {
          "output_type": "stream",
          "name": "stdout",
          "text": [
            "\u001b[2m\u001b[36m(launch_and_evaluate pid=3180)\u001b[0m ----------------------------ID is  0 ------------------------------------\n",
            "\u001b[2m\u001b[36m(launch_and_fit pid=3181)\u001b[0m ----------------------------ID is  0 ------------------------------------\n",
            "\u001b[2m\u001b[36m(launch_and_fit pid=3181)\u001b[0m ----------------------------ID is  0 ------------------------------------\n",
            "\u001b[2m\u001b[36m(launch_and_evaluate pid=3180)\u001b[0m Found 3000 images belonging to 2 classes.\n",
            "\u001b[2m\u001b[36m(launch_and_evaluate pid=3180)\u001b[0m Found 616 images belonging to 2 classes.\n",
            "\u001b[2m\u001b[36m(launch_and_evaluate pid=3181)\u001b[0m 1/1 - 51s - loss: 0.6946 - accuracy: 0.3750 - 51s/epoch - 51s/step\n",
            "\u001b[2m\u001b[36m(launch_and_evaluate pid=3181)\u001b[0m 1/1 - 51s - loss: 0.6946 - accuracy: 0.3750 - 51s/epoch - 51s/step\n",
            "\u001b[2m\u001b[36m(launch_and_evaluate pid=3181)\u001b[0m Found 616 images belonging to 2 classes.\u001b[32m [repeated 2x across cluster]\u001b[0m\n"
          ]
        },
        {
          "output_type": "stream",
          "name": "stderr",
          "text": [
            "DEBUG flwr 2023-04-28 13:33:28,226 | server.py:182 | evaluate_round 14 received 2 results and 0 failures\n",
            "DEBUG:flwr:evaluate_round 14 received 2 results and 0 failures\n",
            "DEBUG flwr 2023-04-28 13:33:28,230 | server.py:218 | fit_round 15: strategy sampled 2 clients (out of 2)\n",
            "DEBUG:flwr:fit_round 15: strategy sampled 2 clients (out of 2)\n"
          ]
        },
        {
          "output_type": "stream",
          "name": "stdout",
          "text": [
            "\u001b[2m\u001b[36m(launch_and_evaluate pid=3180)\u001b[0m 1/1 - 49s - loss: 0.6943 - accuracy: 0.4062 - 49s/epoch - 49s/step\n",
            "\u001b[2m\u001b[36m(launch_and_fit pid=3180)\u001b[0m ----------------------------ID is  0 ------------------------------------\n",
            "\u001b[2m\u001b[36m(launch_and_fit pid=3180)\u001b[0m Found 3000 images belonging to 2 classes.\n",
            "\u001b[2m\u001b[36m(launch_and_fit pid=3180)\u001b[0m Found 616 images belonging to 2 classes.\n",
            "\u001b[2m\u001b[36m(launch_and_fit pid=3181)\u001b[0m Epoch 1/5\n",
            "\u001b[2m\u001b[36m(launch_and_fit pid=3181)\u001b[0m Epoch 1/5\n",
            "\u001b[2m\u001b[36m(launch_and_fit pid=3181)\u001b[0m Found 616 images belonging to 2 classes.\u001b[32m [repeated 2x across cluster]\u001b[0m\n",
            "\u001b[2m\u001b[36m(launch_and_fit pid=3180)\u001b[0m Epoch 1/5\n",
            "\u001b[2m\u001b[36m(launch_and_fit pid=3181)\u001b[0m 1/1 - 117s - loss: 0.6924 - accuracy: 0.5625 - 117s/epoch - 117s/step\n",
            "\u001b[2m\u001b[36m(launch_and_fit pid=3181)\u001b[0m Epoch 2/5\n",
            "\u001b[2m\u001b[36m(launch_and_fit pid=3180)\u001b[0m Epoch 2/5\n",
            "\u001b[2m\u001b[36m(launch_and_fit pid=3180)\u001b[0m Epoch 2/5\n",
            "\u001b[2m\u001b[36m(launch_and_fit pid=3181)\u001b[0m 1/1 - 122s - loss: 0.6918 - accuracy: 0.5625 - 122s/epoch - 122s/step\n",
            "\u001b[2m\u001b[36m(launch_and_fit pid=3181)\u001b[0m Epoch 3/5\n",
            "\u001b[2m\u001b[36m(launch_and_fit pid=3180)\u001b[0m Epoch 3/5\n",
            "\u001b[2m\u001b[36m(launch_and_fit pid=3180)\u001b[0m Epoch 3/5\n",
            "\u001b[2m\u001b[36m(launch_and_fit pid=3181)\u001b[0m 1/1 - 122s - loss: 0.6911 - accuracy: 0.5625 - 122s/epoch - 122s/step\n",
            "\u001b[2m\u001b[36m(launch_and_fit pid=3181)\u001b[0m Epoch 4/5\n",
            "\u001b[2m\u001b[36m(launch_and_fit pid=3180)\u001b[0m 1/1 - 122s - loss: 0.6890 - accuracy: 0.6250 - 122s/epoch - 122s/step\n",
            "\u001b[2m\u001b[36m(launch_and_fit pid=3180)\u001b[0m Epoch 4/5\n",
            "\u001b[2m\u001b[36m(launch_and_fit pid=3181)\u001b[0m 1/1 - 121s - loss: 0.6905 - accuracy: 0.5625 - 121s/epoch - 121s/step\n",
            "\u001b[2m\u001b[36m(launch_and_fit pid=3181)\u001b[0m Epoch 5/5\n",
            "\u001b[2m\u001b[36m(launch_and_fit pid=3180)\u001b[0m Epoch 5/5\n",
            "\u001b[2m\u001b[36m(launch_and_fit pid=3180)\u001b[0m Epoch 5/5\n",
            "\u001b[2m\u001b[36m(launch_and_fit pid=3181)\u001b[0m 1/1 - 117s - loss: 0.6900 - accuracy: 0.5625 - 117s/epoch - 117s/step\n",
            "\u001b[2m\u001b[36m(launch_and_fit pid=3181)\u001b[0m Fit history :  {'loss': [0.6924340724945068, 0.6917859315872192, 0.6911492347717285, 0.6905350685119629, 0.6899538040161133], 'accuracy': [0.5625, 0.5625, 0.5625, 0.5625, 0.5625]}\n",
            "\u001b[2m\u001b[36m(launch_and_fit pid=3180)\u001b[0m Fit history :  {'loss': [0.6917037963867188, 0.6903555393218994, 0.6889945268630981, 0.6876420378684998, 0.6863180994987488], 'accuracy': [0.625, 0.625, 0.625, 0.625, 0.625]}\n",
            "\u001b[2m\u001b[36m(launch_and_fit pid=3180)\u001b[0m Fit history :  {'loss': [0.6917037963867188, 0.6903555393218994, 0.6889945268630981, 0.6876420378684998, 0.6863180994987488], 'accuracy': [0.625, 0.625, 0.625, 0.625, 0.625]}\n"
          ]
        },
        {
          "output_type": "stream",
          "name": "stderr",
          "text": [
            "DEBUG flwr 2023-04-28 13:43:46,769 | server.py:232 | fit_round 15 received 2 results and 0 failures\n",
            "DEBUG:flwr:fit_round 15 received 2 results and 0 failures\n"
          ]
        },
        {
          "output_type": "stream",
          "name": "stdout",
          "text": [
            "Saving round 15 aggregated_weights...\n"
          ]
        },
        {
          "output_type": "stream",
          "name": "stderr",
          "text": [
            "DEBUG flwr 2023-04-28 13:43:47,477 | server.py:168 | evaluate_round 15: strategy sampled 2 clients (out of 2)\n",
            "DEBUG:flwr:evaluate_round 15: strategy sampled 2 clients (out of 2)\n"
          ]
        },
        {
          "output_type": "stream",
          "name": "stdout",
          "text": [
            "\u001b[2m\u001b[36m(launch_and_evaluate pid=3180)\u001b[0m ----------------------------ID is  1 ------------------------------------\n",
            "\u001b[2m\u001b[36m(launch_and_evaluate pid=3180)\u001b[0m Found 3000 images belonging to 2 classes.\n",
            "\u001b[2m\u001b[36m(launch_and_evaluate pid=3180)\u001b[0m Found 616 images belonging to 2 classes.\n",
            "\u001b[2m\u001b[36m(launch_and_evaluate pid=3180)\u001b[0m 1/1 - 55s - loss: 0.7025 - accuracy: 0.3750 - 55s/epoch - 55s/step\n",
            "\u001b[2m\u001b[36m(launch_and_evaluate pid=3181)\u001b[0m 1/1 - 55s - loss: 0.7025 - accuracy: 0.3750 - 55s/epoch - 55s/step\n",
            "\u001b[2m\u001b[36m(launch_and_evaluate pid=3181)\u001b[0m Found 616 images belonging to 2 classes.\u001b[32m [repeated 2x across cluster]\u001b[0m\n"
          ]
        },
        {
          "output_type": "stream",
          "name": "stderr",
          "text": [
            "DEBUG flwr 2023-04-28 13:44:53,190 | server.py:182 | evaluate_round 15 received 2 results and 0 failures\n",
            "DEBUG:flwr:evaluate_round 15 received 2 results and 0 failures\n",
            "DEBUG flwr 2023-04-28 13:44:53,198 | server.py:218 | fit_round 16: strategy sampled 2 clients (out of 2)\n",
            "DEBUG:flwr:fit_round 16: strategy sampled 2 clients (out of 2)\n"
          ]
        },
        {
          "output_type": "stream",
          "name": "stdout",
          "text": [
            "\u001b[2m\u001b[36m(launch_and_fit pid=3180)\u001b[0m ----------------------------ID is  0 ------------------------------------\n",
            "\u001b[2m\u001b[36m(launch_and_evaluate pid=3181)\u001b[0m Found 616 images belonging to 2 classes.\n",
            "\u001b[2m\u001b[36m(launch_and_fit pid=3180)\u001b[0m Found 616 images belonging to 2 classes.\u001b[32m [repeated 2x across cluster]\u001b[0m\n",
            "\u001b[2m\u001b[36m(launch_and_fit pid=3181)\u001b[0m Epoch 1/5\n",
            "\u001b[2m\u001b[36m(launch_and_fit pid=3181)\u001b[0m Epoch 1/5\n",
            "\u001b[2m\u001b[36m(launch_and_fit pid=3181)\u001b[0m Found 616 images belonging to 2 classes.\u001b[32m [repeated 2x across cluster]\u001b[0m\n",
            "\u001b[2m\u001b[36m(launch_and_fit pid=3180)\u001b[0m Epoch 1/5\n",
            "\u001b[2m\u001b[36m(launch_and_fit pid=3181)\u001b[0m 1/1 - 116s - loss: 0.6894 - accuracy: 0.5625 - 116s/epoch - 116s/step\n",
            "\u001b[2m\u001b[36m(launch_and_fit pid=3181)\u001b[0m Epoch 2/5\n",
            "\u001b[2m\u001b[36m(launch_and_fit pid=3180)\u001b[0m Epoch 2/5\n",
            "\u001b[2m\u001b[36m(launch_and_fit pid=3180)\u001b[0m Epoch 2/5\n",
            "\u001b[2m\u001b[36m(launch_and_fit pid=3181)\u001b[0m 1/1 - 121s - loss: 0.6888 - accuracy: 0.5625 - 121s/epoch - 121s/step\n",
            "\u001b[2m\u001b[36m(launch_and_fit pid=3181)\u001b[0m Epoch 3/5\n",
            "\u001b[2m\u001b[36m(launch_and_fit pid=3180)\u001b[0m Epoch 3/5\n",
            "\u001b[2m\u001b[36m(launch_and_fit pid=3180)\u001b[0m Epoch 3/5\n",
            "\u001b[2m\u001b[36m(launch_and_fit pid=3181)\u001b[0m 1/1 - 126s - loss: 0.6883 - accuracy: 0.5625 - 126s/epoch - 126s/step\n",
            "\u001b[2m\u001b[36m(launch_and_fit pid=3181)\u001b[0m Epoch 4/5\n",
            "\u001b[2m\u001b[36m(launch_and_fit pid=3180)\u001b[0m Epoch 4/5\n",
            "\u001b[2m\u001b[36m(launch_and_fit pid=3180)\u001b[0m Epoch 4/5\n",
            "\u001b[2m\u001b[36m(launch_and_fit pid=3181)\u001b[0m 1/1 - 125s - loss: 0.6878 - accuracy: 0.5625 - 125s/epoch - 125s/step\n",
            "\u001b[2m\u001b[36m(launch_and_fit pid=3181)\u001b[0m Epoch 5/5\n",
            "\u001b[2m\u001b[36m(launch_and_fit pid=3180)\u001b[0m Epoch 5/5\n",
            "\u001b[2m\u001b[36m(launch_and_fit pid=3180)\u001b[0m Epoch 5/5\n",
            "\u001b[2m\u001b[36m(launch_and_fit pid=3181)\u001b[0m 1/1 - 119s - loss: 0.6873 - accuracy: 0.5625 - 119s/epoch - 119s/step\n",
            "\u001b[2m\u001b[36m(launch_and_fit pid=3181)\u001b[0m Fit history :  {'loss': [0.6893798112869263, 0.6888173222541809, 0.6882764101028442, 0.6877629160881042, 0.6872804164886475], 'accuracy': [0.5625, 0.5625, 0.5625, 0.5625, 0.5625]}\n",
            "\u001b[2m\u001b[36m(launch_and_fit pid=3180)\u001b[0m Fit history :  {'loss': [0.6915706396102905, 0.6914152503013611, 0.6912980675697327, 0.6912237405776978, 0.6911938190460205], 'accuracy': [0.53125, 0.53125, 0.53125, 0.53125, 0.53125]}\n",
            "\u001b[2m\u001b[36m(launch_and_fit pid=3180)\u001b[0m Fit history :  {'loss': [0.6915706396102905, 0.6914152503013611, 0.6912980675697327, 0.6912237405776978, 0.6911938190460205], 'accuracy': [0.53125, 0.53125, 0.53125, 0.53125, 0.53125]}\n"
          ]
        },
        {
          "output_type": "stream",
          "name": "stderr",
          "text": [
            "DEBUG flwr 2023-04-28 13:55:15,185 | server.py:232 | fit_round 16 received 2 results and 0 failures\n",
            "DEBUG:flwr:fit_round 16 received 2 results and 0 failures\n"
          ]
        },
        {
          "output_type": "stream",
          "name": "stdout",
          "text": [
            "Saving round 16 aggregated_weights...\n"
          ]
        },
        {
          "output_type": "stream",
          "name": "stderr",
          "text": [
            "DEBUG flwr 2023-04-28 13:55:15,991 | server.py:168 | evaluate_round 16: strategy sampled 2 clients (out of 2)\n",
            "DEBUG:flwr:evaluate_round 16: strategy sampled 2 clients (out of 2)\n"
          ]
        },
        {
          "output_type": "stream",
          "name": "stdout",
          "text": [
            "\u001b[2m\u001b[36m(launch_and_evaluate pid=3180)\u001b[0m ----------------------------ID is  1 ------------------------------------\n",
            "\u001b[2m\u001b[36m(launch_and_evaluate pid=3180)\u001b[0m Found 3000 images belonging to 2 classes.\n",
            "\u001b[2m\u001b[36m(launch_and_evaluate pid=3180)\u001b[0m Found 616 images belonging to 2 classes.\n",
            "\u001b[2m\u001b[36m(launch_and_evaluate pid=3180)\u001b[0m 1/1 - 54s - loss: 0.6826 - accuracy: 0.5938 - 54s/epoch - 54s/step\n",
            "\u001b[2m\u001b[36m(launch_and_evaluate pid=3181)\u001b[0m 1/1 - 54s - loss: 0.6826 - accuracy: 0.5938 - 54s/epoch - 54s/step\n",
            "\u001b[2m\u001b[36m(launch_and_evaluate pid=3181)\u001b[0m Found 616 images belonging to 2 classes.\u001b[32m [repeated 2x across cluster]\u001b[0m\n"
          ]
        },
        {
          "output_type": "stream",
          "name": "stderr",
          "text": [
            "DEBUG flwr 2023-04-28 13:56:24,439 | server.py:182 | evaluate_round 16 received 2 results and 0 failures\n",
            "DEBUG:flwr:evaluate_round 16 received 2 results and 0 failures\n",
            "DEBUG flwr 2023-04-28 13:56:24,443 | server.py:218 | fit_round 17: strategy sampled 2 clients (out of 2)\n",
            "DEBUG:flwr:fit_round 17: strategy sampled 2 clients (out of 2)\n"
          ]
        },
        {
          "output_type": "stream",
          "name": "stdout",
          "text": [
            "\u001b[2m\u001b[36m(launch_and_fit pid=3181)\u001b[0m ----------------------------ID is  0 ------------------------------------\n",
            "\u001b[2m\u001b[36m(launch_and_fit pid=3180)\u001b[0m Epoch 1/5\n",
            "\u001b[2m\u001b[36m(launch_and_evaluate pid=3181)\u001b[0m Epoch 1/5\n",
            "\u001b[2m\u001b[36m(launch_and_fit pid=3181)\u001b[0m Found 616 images belonging to 2 classes.\u001b[32m [repeated 4x across cluster]\u001b[0m\n",
            "\u001b[2m\u001b[36m(launch_and_fit pid=3180)\u001b[0m Epoch 1/5\n",
            "\u001b[2m\u001b[36m(launch_and_fit pid=3180)\u001b[0m 1/1 - 121s - loss: 0.6998 - accuracy: 0.4688 - 121s/epoch - 121s/step\n",
            "\u001b[2m\u001b[36m(launch_and_fit pid=3180)\u001b[0m Epoch 2/5\u001b[32m [repeated 2x across cluster]\u001b[0m\n",
            "\u001b[2m\u001b[36m(launch_and_fit pid=3181)\u001b[0m Epoch 2/5\n",
            "\u001b[2m\u001b[36m(launch_and_fit pid=3181)\u001b[0m Epoch 2/5\n",
            "\u001b[2m\u001b[36m(launch_and_fit pid=3180)\u001b[0m 1/1 - 124s - loss: 0.6988 - accuracy: 0.4688 - 124s/epoch - 124s/step\n",
            "\u001b[2m\u001b[36m(launch_and_fit pid=3180)\u001b[0m Epoch 3/5\n",
            "\u001b[2m\u001b[36m(launch_and_fit pid=3180)\u001b[0m 1/1 - 122s - loss: 0.6980 - accuracy: 0.4688 - 122s/epoch - 122s/step\u001b[32m [repeated 2x across cluster]\u001b[0m\n",
            "\u001b[2m\u001b[36m(launch_and_fit pid=3180)\u001b[0m Epoch 4/5\u001b[32m [repeated 2x across cluster]\u001b[0m\n",
            "\u001b[2m\u001b[36m(launch_and_fit pid=3180)\u001b[0m 1/1 - 121s - loss: 0.6972 - accuracy: 0.4688 - 121s/epoch - 121s/step\u001b[32m [repeated 2x across cluster]\u001b[0m\n",
            "\u001b[2m\u001b[36m(launch_and_fit pid=3181)\u001b[0m 1/1 - 121s - loss: 0.6972 - accuracy: 0.4688 - 121s/epoch - 121s/step\n",
            "\u001b[2m\u001b[36m(launch_and_fit pid=3180)\u001b[0m Epoch 5/5\n",
            "\u001b[2m\u001b[36m(launch_and_fit pid=3180)\u001b[0m Fit history :  {'loss': [0.699770987033844, 0.6988224387168884, 0.6979790925979614, 0.697224497795105, 0.6965586543083191], 'accuracy': [0.46875, 0.46875, 0.46875, 0.46875, 0.46875]}\n",
            "\u001b[2m\u001b[36m(launch_and_fit pid=3180)\u001b[0m 1/1 - 120s - loss: 0.6966 - accuracy: 0.4688 - 120s/epoch - 120s/step\u001b[32m [repeated 2x across cluster]\u001b[0m\n",
            "\u001b[2m\u001b[36m(launch_and_fit pid=3181)\u001b[0m Fit history :  {'loss': [0.699770987033844, 0.6988224387168884, 0.6979790925979614, 0.697224497795105, 0.6965586543083191], 'accuracy': [0.46875, 0.46875, 0.46875, 0.46875, 0.46875]}\n"
          ]
        },
        {
          "output_type": "stream",
          "name": "stderr",
          "text": [
            "DEBUG flwr 2023-04-28 14:06:42,875 | server.py:232 | fit_round 17 received 2 results and 0 failures\n",
            "DEBUG:flwr:fit_round 17 received 2 results and 0 failures\n"
          ]
        },
        {
          "output_type": "stream",
          "name": "stdout",
          "text": [
            "Saving round 17 aggregated_weights...\n"
          ]
        },
        {
          "output_type": "stream",
          "name": "stderr",
          "text": [
            "DEBUG flwr 2023-04-28 14:06:43,503 | server.py:168 | evaluate_round 17: strategy sampled 2 clients (out of 2)\n",
            "DEBUG:flwr:evaluate_round 17: strategy sampled 2 clients (out of 2)\n"
          ]
        },
        {
          "output_type": "stream",
          "name": "stdout",
          "text": [
            "\u001b[2m\u001b[36m(launch_and_evaluate pid=3180)\u001b[0m ----------------------------ID is  1 ------------------------------------\n",
            "\u001b[2m\u001b[36m(launch_and_evaluate pid=3180)\u001b[0m Found 3000 images belonging to 2 classes.\n",
            "\u001b[2m\u001b[36m(launch_and_evaluate pid=3180)\u001b[0m Found 616 images belonging to 2 classes.\n",
            "\u001b[2m\u001b[36m(launch_and_fit pid=3181)\u001b[0m Found 3000 images belonging to 2 classes.\n",
            "\u001b[2m\u001b[36m(launch_and_fit pid=3181)\u001b[0m Found 3000 images belonging to 2 classes.\n",
            "\u001b[2m\u001b[36m(launch_and_evaluate pid=3180)\u001b[0m 1/1 - 44s - loss: 0.7004 - accuracy: 0.4375 - 44s/epoch - 44s/step\n",
            "\u001b[2m\u001b[36m(launch_and_evaluate pid=3181)\u001b[0m 1/1 - 44s - loss: 0.7004 - accuracy: 0.4375 - 44s/epoch - 44s/step\n",
            "\u001b[2m\u001b[36m(launch_and_evaluate pid=3181)\u001b[0m Found 616 images belonging to 2 classes.\u001b[32m [repeated 2x across cluster]\u001b[0m\n"
          ]
        },
        {
          "output_type": "stream",
          "name": "stderr",
          "text": [
            "DEBUG flwr 2023-04-28 14:07:48,037 | server.py:182 | evaluate_round 17 received 2 results and 0 failures\n",
            "DEBUG:flwr:evaluate_round 17 received 2 results and 0 failures\n",
            "DEBUG flwr 2023-04-28 14:07:48,040 | server.py:218 | fit_round 18: strategy sampled 2 clients (out of 2)\n",
            "DEBUG:flwr:fit_round 18: strategy sampled 2 clients (out of 2)\n"
          ]
        },
        {
          "output_type": "stream",
          "name": "stdout",
          "text": [
            "\u001b[2m\u001b[36m(launch_and_evaluate pid=3181)\u001b[0m 1/1 - 49s - loss: 0.6883 - accuracy: 0.5625 - 49s/epoch - 49s/step\n",
            "\u001b[2m\u001b[36m(launch_and_fit pid=3181)\u001b[0m ----------------------------ID is  1 ------------------------------------\n",
            "\u001b[2m\u001b[36m(launch_and_fit pid=3181)\u001b[0m Found 3000 images belonging to 2 classes.\n",
            "\u001b[2m\u001b[36m(launch_and_fit pid=3181)\u001b[0m Epoch 1/5\n",
            "\u001b[2m\u001b[36m(launch_and_fit pid=3180)\u001b[0m Epoch 1/5\n",
            "\u001b[2m\u001b[36m(launch_and_fit pid=3180)\u001b[0m Found 616 images belonging to 2 classes.\u001b[32m [repeated 3x across cluster]\u001b[0m\n",
            "\u001b[2m\u001b[36m(launch_and_fit pid=3181)\u001b[0m 1/1 - 118s - loss: 0.6943 - accuracy: 0.5000 - 118s/epoch - 118s/step\n",
            "\u001b[2m\u001b[36m(launch_and_fit pid=3181)\u001b[0m Epoch 2/5\u001b[32m [repeated 2x across cluster]\u001b[0m\n",
            "\u001b[2m\u001b[36m(launch_and_fit pid=3180)\u001b[0m Epoch 2/5\n",
            "\u001b[2m\u001b[36m(launch_and_fit pid=3180)\u001b[0m Epoch 2/5\n",
            "\u001b[2m\u001b[36m(launch_and_fit pid=3181)\u001b[0m 1/1 - 122s - loss: 0.6940 - accuracy: 0.5000 - 122s/epoch - 122s/step\n",
            "\u001b[2m\u001b[36m(launch_and_fit pid=3181)\u001b[0m Epoch 3/5\n",
            "\u001b[2m\u001b[36m(launch_and_fit pid=3180)\u001b[0m Epoch 3/5\n",
            "\u001b[2m\u001b[36m(launch_and_fit pid=3180)\u001b[0m Epoch 3/5\n",
            "\u001b[2m\u001b[36m(launch_and_fit pid=3181)\u001b[0m 1/1 - 118s - loss: 0.6938 - accuracy: 0.5000 - 118s/epoch - 118s/step\n",
            "\u001b[2m\u001b[36m(launch_and_fit pid=3181)\u001b[0m Epoch 4/5\n",
            "\u001b[2m\u001b[36m(launch_and_fit pid=3180)\u001b[0m Epoch 4/5\n",
            "\u001b[2m\u001b[36m(launch_and_fit pid=3180)\u001b[0m Epoch 4/5\n",
            "\u001b[2m\u001b[36m(launch_and_fit pid=3181)\u001b[0m 1/1 - 124s - loss: 0.6936 - accuracy: 0.5000 - 124s/epoch - 124s/step\n",
            "\u001b[2m\u001b[36m(launch_and_fit pid=3181)\u001b[0m Epoch 5/5\n",
            "\u001b[2m\u001b[36m(launch_and_fit pid=3180)\u001b[0m Epoch 5/5\n",
            "\u001b[2m\u001b[36m(launch_and_fit pid=3180)\u001b[0m Epoch 5/5\n",
            "\u001b[2m\u001b[36m(launch_and_fit pid=3181)\u001b[0m 1/1 - 123s - loss: 0.6935 - accuracy: 0.5000 - 123s/epoch - 123s/step\n",
            "\u001b[2m\u001b[36m(launch_and_fit pid=3181)\u001b[0m Fit history :  {'loss': [0.6943231225013733, 0.6940333843231201, 0.6937962174415588, 0.6936061382293701, 0.6934601068496704], 'accuracy': [0.5, 0.5, 0.5, 0.5, 0.5]}\n",
            "\u001b[2m\u001b[36m(launch_and_fit pid=3180)\u001b[0m Fit history :  {'loss': [0.7094810009002686, 0.7071738839149475, 0.7050156593322754, 0.7029962539672852, 0.701136589050293], 'accuracy': [0.34375, 0.34375, 0.34375, 0.34375, 0.34375]}\n",
            "\u001b[2m\u001b[36m(launch_and_fit pid=3180)\u001b[0m Fit history :  {'loss': [0.7094810009002686, 0.7071738839149475, 0.7050156593322754, 0.7029962539672852, 0.701136589050293], 'accuracy': [0.34375, 0.34375, 0.34375, 0.34375, 0.34375]}\n"
          ]
        },
        {
          "output_type": "stream",
          "name": "stderr",
          "text": [
            "DEBUG flwr 2023-04-28 14:18:04,603 | server.py:232 | fit_round 18 received 2 results and 0 failures\n",
            "DEBUG:flwr:fit_round 18 received 2 results and 0 failures\n"
          ]
        },
        {
          "output_type": "stream",
          "name": "stdout",
          "text": [
            "Saving round 18 aggregated_weights...\n"
          ]
        },
        {
          "output_type": "stream",
          "name": "stderr",
          "text": [
            "DEBUG flwr 2023-04-28 14:18:05,180 | server.py:168 | evaluate_round 18: strategy sampled 2 clients (out of 2)\n",
            "DEBUG:flwr:evaluate_round 18: strategy sampled 2 clients (out of 2)\n"
          ]
        },
        {
          "output_type": "stream",
          "name": "stdout",
          "text": [
            "\u001b[2m\u001b[36m(launch_and_evaluate pid=3180)\u001b[0m ----------------------------ID is  0 ------------------------------------\n",
            "\u001b[2m\u001b[36m(launch_and_evaluate pid=3181)\u001b[0m Found 3000 images belonging to 2 classes.\n",
            "\u001b[2m\u001b[36m(launch_and_evaluate pid=3180)\u001b[0m 1/1 - 57s - loss: 0.6921 - accuracy: 0.5312 - 57s/epoch - 57s/step\n",
            "\u001b[2m\u001b[36m(launch_and_evaluate pid=3181)\u001b[0m 1/1 - 57s - loss: 0.6921 - accuracy: 0.5312 - 57s/epoch - 57s/step\n",
            "\u001b[2m\u001b[36m(launch_and_evaluate pid=3181)\u001b[0m Found 616 images belonging to 2 classes.\u001b[32m [repeated 3x across cluster]\u001b[0m\n"
          ]
        },
        {
          "output_type": "stream",
          "name": "stderr",
          "text": [
            "DEBUG flwr 2023-04-28 14:19:39,671 | server.py:182 | evaluate_round 18 received 2 results and 0 failures\n",
            "DEBUG:flwr:evaluate_round 18 received 2 results and 0 failures\n",
            "DEBUG flwr 2023-04-28 14:19:39,674 | server.py:218 | fit_round 19: strategy sampled 2 clients (out of 2)\n",
            "DEBUG:flwr:fit_round 19: strategy sampled 2 clients (out of 2)\n"
          ]
        },
        {
          "output_type": "stream",
          "name": "stdout",
          "text": [
            "\u001b[2m\u001b[36m(launch_and_fit pid=3180)\u001b[0m ----------------------------ID is  0 ------------------------------------\n",
            "\u001b[2m\u001b[36m(launch_and_evaluate pid=3181)\u001b[0m ----------------------------ID is  0 ------------------------------------\n",
            "\u001b[2m\u001b[36m(launch_and_fit pid=3181)\u001b[0m Found 3000 images belonging to 2 classes.\n",
            "\u001b[2m\u001b[36m(launch_and_fit pid=3181)\u001b[0m Epoch 1/5\n",
            "\u001b[2m\u001b[36m(launch_and_fit pid=3181)\u001b[0m Epoch 1/5\n",
            "\u001b[2m\u001b[36m(launch_and_fit pid=3181)\u001b[0m Found 616 images belonging to 2 classes.\u001b[32m [repeated 3x across cluster]\u001b[0m\n",
            "\u001b[2m\u001b[36m(launch_and_fit pid=3181)\u001b[0m 1/1 - 120s - loss: 0.6958 - accuracy: 0.4375 - 120s/epoch - 120s/step\n",
            "\u001b[2m\u001b[36m(launch_and_fit pid=3181)\u001b[0m Epoch 2/5\u001b[32m [repeated 2x across cluster]\u001b[0m\n",
            "\u001b[2m\u001b[36m(launch_and_fit pid=3180)\u001b[0m Epoch 2/5\n",
            "\u001b[2m\u001b[36m(launch_and_fit pid=3180)\u001b[0m Epoch 2/5\n",
            "\u001b[2m\u001b[36m(launch_and_fit pid=3181)\u001b[0m 1/1 - 119s - loss: 0.6951 - accuracy: 0.4375 - 119s/epoch - 119s/step\n",
            "\u001b[2m\u001b[36m(launch_and_fit pid=3181)\u001b[0m Epoch 3/5\n",
            "\u001b[2m\u001b[36m(launch_and_fit pid=3180)\u001b[0m Epoch 3/5\n",
            "\u001b[2m\u001b[36m(launch_and_fit pid=3180)\u001b[0m Epoch 3/5\n",
            "\u001b[2m\u001b[36m(launch_and_fit pid=3181)\u001b[0m 1/1 - 122s - loss: 0.6944 - accuracy: 0.4375 - 122s/epoch - 122s/step\n",
            "\u001b[2m\u001b[36m(launch_and_fit pid=3181)\u001b[0m Epoch 4/5\n",
            "\u001b[2m\u001b[36m(launch_and_fit pid=3180)\u001b[0m Epoch 4/5\n",
            "\u001b[2m\u001b[36m(launch_and_fit pid=3180)\u001b[0m Epoch 4/5\n",
            "\u001b[2m\u001b[36m(launch_and_fit pid=3181)\u001b[0m 1/1 - 119s - loss: 0.6939 - accuracy: 0.4375 - 119s/epoch - 119s/step\n",
            "\u001b[2m\u001b[36m(launch_and_fit pid=3181)\u001b[0m Epoch 5/5\n",
            "\u001b[2m\u001b[36m(launch_and_fit pid=3181)\u001b[0m Fit history :  {'loss': [0.6958039999008179, 0.695074200630188, 0.6944097280502319, 0.6938662528991699, 0.6934363842010498], 'accuracy': [0.4375, 0.4375, 0.4375, 0.4375, 0.4375]}\n",
            "\u001b[2m\u001b[36m(launch_and_fit pid=3181)\u001b[0m 1/1 - 125s - loss: 0.6934 - accuracy: 0.4375 - 125s/epoch - 125s/step\u001b[32m [repeated 2x across cluster]\u001b[0m\n",
            "\u001b[2m\u001b[36m(launch_and_fit pid=3180)\u001b[0m Fit history :  {'loss': [0.6958039999008179, 0.695074200630188, 0.6944097280502319, 0.6938662528991699, 0.6934363842010498], 'accuracy': [0.4375, 0.4375, 0.4375, 0.4375, 0.4375]}\n"
          ]
        },
        {
          "output_type": "stream",
          "name": "stderr",
          "text": [
            "DEBUG flwr 2023-04-28 14:29:56,865 | server.py:232 | fit_round 19 received 2 results and 0 failures\n",
            "DEBUG:flwr:fit_round 19 received 2 results and 0 failures\n"
          ]
        },
        {
          "output_type": "stream",
          "name": "stdout",
          "text": [
            "Saving round 19 aggregated_weights...\n"
          ]
        },
        {
          "output_type": "stream",
          "name": "stderr",
          "text": [
            "DEBUG flwr 2023-04-28 14:29:57,659 | server.py:168 | evaluate_round 19: strategy sampled 2 clients (out of 2)\n",
            "DEBUG:flwr:evaluate_round 19: strategy sampled 2 clients (out of 2)\n"
          ]
        },
        {
          "output_type": "stream",
          "name": "stdout",
          "text": [
            "\u001b[2m\u001b[36m(launch_and_evaluate pid=3180)\u001b[0m ----------------------------ID is  0 ------------------------------------\n",
            "\u001b[2m\u001b[36m(launch_and_fit pid=3180)\u001b[0m ----------------------------ID is  0 ------------------------------------\n",
            "\u001b[2m\u001b[36m(launch_and_fit pid=3180)\u001b[0m ----------------------------ID is  0 ------------------------------------\n",
            "\u001b[2m\u001b[36m(launch_and_evaluate pid=3181)\u001b[0m Found 3000 images belonging to 2 classes.\n",
            "\u001b[2m\u001b[36m(launch_and_evaluate pid=3181)\u001b[0m 1/1 - 52s - loss: 0.6931 - accuracy: 0.5312 - 52s/epoch - 52s/step\n",
            "\u001b[2m\u001b[36m(launch_and_evaluate pid=3181)\u001b[0m 1/1 - 52s - loss: 0.6931 - accuracy: 0.5312 - 52s/epoch - 52s/step\n",
            "\u001b[2m\u001b[36m(launch_and_evaluate pid=3180)\u001b[0m Found 616 images belonging to 2 classes.\u001b[32m [repeated 3x across cluster]\u001b[0m\n"
          ]
        },
        {
          "output_type": "stream",
          "name": "stderr",
          "text": [
            "DEBUG flwr 2023-04-28 14:31:02,181 | server.py:182 | evaluate_round 19 received 2 results and 0 failures\n",
            "DEBUG:flwr:evaluate_round 19 received 2 results and 0 failures\n",
            "DEBUG flwr 2023-04-28 14:31:02,190 | server.py:218 | fit_round 20: strategy sampled 2 clients (out of 2)\n",
            "DEBUG:flwr:fit_round 20: strategy sampled 2 clients (out of 2)\n"
          ]
        },
        {
          "output_type": "stream",
          "name": "stdout",
          "text": [
            "\u001b[2m\u001b[36m(launch_and_fit pid=3181)\u001b[0m ----------------------------ID is  1 ------------------------------------\n",
            "\u001b[2m\u001b[36m(launch_and_evaluate pid=3180)\u001b[0m ----------------------------ID is  1 ------------------------------------\n",
            "\u001b[2m\u001b[36m(launch_and_fit pid=3181)\u001b[0m Found 3000 images belonging to 2 classes.\n",
            "\u001b[2m\u001b[36m(launch_and_fit pid=3181)\u001b[0m Found 616 images belonging to 2 classes.\n",
            "\u001b[2m\u001b[36m(launch_and_fit pid=3181)\u001b[0m Epoch 1/5\n",
            "\u001b[2m\u001b[36m(launch_and_fit pid=3180)\u001b[0m Epoch 1/5\n",
            "\u001b[2m\u001b[36m(launch_and_fit pid=3180)\u001b[0m Found 616 images belonging to 2 classes.\u001b[32m [repeated 2x across cluster]\u001b[0m\n",
            "\u001b[2m\u001b[36m(launch_and_fit pid=3180)\u001b[0m Epoch 1/5\n",
            "\u001b[2m\u001b[36m(launch_and_fit pid=3181)\u001b[0m 1/1 - 115s - loss: 0.6931 - accuracy: 0.5000 - 115s/epoch - 115s/step\n",
            "\u001b[2m\u001b[36m(launch_and_fit pid=3181)\u001b[0m Epoch 2/5\n",
            "\u001b[2m\u001b[36m(launch_and_fit pid=3180)\u001b[0m Epoch 2/5\n",
            "\u001b[2m\u001b[36m(launch_and_fit pid=3180)\u001b[0m Epoch 2/5\n",
            "\u001b[2m\u001b[36m(launch_and_fit pid=3181)\u001b[0m 1/1 - 122s - loss: 0.6931 - accuracy: 0.5000 - 122s/epoch - 122s/step\n",
            "\u001b[2m\u001b[36m(launch_and_fit pid=3181)\u001b[0m Epoch 3/5\n",
            "\u001b[2m\u001b[36m(launch_and_fit pid=3180)\u001b[0m Epoch 3/5\n",
            "\u001b[2m\u001b[36m(launch_and_fit pid=3180)\u001b[0m Epoch 3/5\n",
            "\u001b[2m\u001b[36m(launch_and_fit pid=3181)\u001b[0m 1/1 - 122s - loss: 0.6931 - accuracy: 0.5000 - 122s/epoch - 122s/step\n",
            "\u001b[2m\u001b[36m(launch_and_fit pid=3181)\u001b[0m Epoch 4/5\n",
            "\u001b[2m\u001b[36m(launch_and_fit pid=3180)\u001b[0m Epoch 4/5\n",
            "\u001b[2m\u001b[36m(launch_and_fit pid=3180)\u001b[0m Epoch 4/5\n",
            "\u001b[2m\u001b[36m(launch_and_fit pid=3181)\u001b[0m 1/1 - 126s - loss: 0.6931 - accuracy: 0.5000 - 126s/epoch - 126s/step\n",
            "\u001b[2m\u001b[36m(launch_and_fit pid=3181)\u001b[0m Epoch 5/5\n",
            "\u001b[2m\u001b[36m(launch_and_fit pid=3180)\u001b[0m Epoch 5/5\n",
            "\u001b[2m\u001b[36m(launch_and_fit pid=3180)\u001b[0m Epoch 5/5\n",
            "\u001b[2m\u001b[36m(launch_and_fit pid=3181)\u001b[0m 1/1 - 120s - loss: 0.6931 - accuracy: 0.5000 - 120s/epoch - 120s/step\n",
            "\u001b[2m\u001b[36m(launch_and_fit pid=3181)\u001b[0m Fit history :  {'loss': [0.6931471824645996, 0.6931475400924683, 0.6931477785110474, 0.6931474208831787, 0.6931471824645996], 'accuracy': [0.5, 0.5, 0.5, 0.5, 0.5]}\n",
            "\u001b[2m\u001b[36m(launch_and_fit pid=3180)\u001b[0m Fit history :  {'loss': [0.6931437253952026, 0.692086398601532, 0.6910193562507629, 0.6899543404579163, 0.6888870596885681], 'accuracy': [0.6875, 0.6875, 0.6875, 0.6875, 0.6875]}\n",
            "\u001b[2m\u001b[36m(launch_and_fit pid=3180)\u001b[0m Fit history :  {'loss': [0.6931437253952026, 0.692086398601532, 0.6910193562507629, 0.6899543404579163, 0.6888870596885681], 'accuracy': [0.6875, 0.6875, 0.6875, 0.6875, 0.6875]}\n"
          ]
        },
        {
          "output_type": "stream",
          "name": "stderr",
          "text": [
            "DEBUG flwr 2023-04-28 14:41:19,061 | server.py:232 | fit_round 20 received 2 results and 0 failures\n",
            "DEBUG:flwr:fit_round 20 received 2 results and 0 failures\n"
          ]
        },
        {
          "output_type": "stream",
          "name": "stdout",
          "text": [
            "Saving round 20 aggregated_weights...\n"
          ]
        },
        {
          "output_type": "stream",
          "name": "stderr",
          "text": [
            "DEBUG flwr 2023-04-28 14:41:19,712 | server.py:168 | evaluate_round 20: strategy sampled 2 clients (out of 2)\n",
            "DEBUG:flwr:evaluate_round 20: strategy sampled 2 clients (out of 2)\n"
          ]
        },
        {
          "output_type": "stream",
          "name": "stdout",
          "text": [
            "\u001b[2m\u001b[36m(launch_and_evaluate pid=3180)\u001b[0m ----------------------------ID is  0 ------------------------------------\n",
            "\u001b[2m\u001b[36m(launch_and_evaluate pid=3181)\u001b[0m Found 3000 images belonging to 2 classes.\n",
            "\u001b[2m\u001b[36m(launch_and_evaluate pid=3181)\u001b[0m Found 616 images belonging to 2 classes.\n",
            "\u001b[2m\u001b[36m(launch_and_evaluate pid=3181)\u001b[0m 1/1 - 51s - loss: 0.6915 - accuracy: 0.6250 - 51s/epoch - 51s/step\n",
            "\u001b[2m\u001b[36m(launch_and_evaluate pid=3181)\u001b[0m 1/1 - 51s - loss: 0.6915 - accuracy: 0.6250 - 51s/epoch - 51s/step\n",
            "\u001b[2m\u001b[36m(launch_and_evaluate pid=3180)\u001b[0m Found 616 images belonging to 2 classes.\u001b[32m [repeated 2x across cluster]\u001b[0m\n"
          ]
        },
        {
          "output_type": "stream",
          "name": "stderr",
          "text": [
            "DEBUG flwr 2023-04-28 14:42:25,388 | server.py:182 | evaluate_round 20 received 2 results and 0 failures\n",
            "DEBUG:flwr:evaluate_round 20 received 2 results and 0 failures\n",
            "INFO flwr 2023-04-28 14:42:25,391 | server.py:147 | FL finished in 13914.273776025999\n",
            "INFO:flwr:FL finished in 13914.273776025999\n",
            "INFO flwr 2023-04-28 14:42:25,413 | app.py:218 | app_fit: losses_distributed [(1, 0.716153621673584), (2, 0.8664299845695496), (3, 0.6774159073829651), (4, 0.6892070770263672), (5, 0.6919582486152649), (6, 0.6932765245437622), (7, 0.6943458318710327), (8, 0.6971553266048431), (9, 0.6932258605957031), (10, 0.6928055584430695), (11, 0.6901353001594543), (12, 0.7150063514709473), (13, 0.7018144428730011), (14, 0.694442093372345), (15, 0.6970476508140564), (16, 0.6869297623634338), (17, 0.6943231225013733), (18, 0.6945726275444031), (19, 0.6931465864181519), (20, 0.6923280358314514)]\n",
            "INFO:flwr:app_fit: losses_distributed [(1, 0.716153621673584), (2, 0.8664299845695496), (3, 0.6774159073829651), (4, 0.6892070770263672), (5, 0.6919582486152649), (6, 0.6932765245437622), (7, 0.6943458318710327), (8, 0.6971553266048431), (9, 0.6932258605957031), (10, 0.6928055584430695), (11, 0.6901353001594543), (12, 0.7150063514709473), (13, 0.7018144428730011), (14, 0.694442093372345), (15, 0.6970476508140564), (16, 0.6869297623634338), (17, 0.6943231225013733), (18, 0.6945726275444031), (19, 0.6931465864181519), (20, 0.6923280358314514)]\n",
            "INFO flwr 2023-04-28 14:42:25,418 | app.py:219 | app_fit: metrics_distributed_fit {}\n",
            "INFO:flwr:app_fit: metrics_distributed_fit {}\n",
            "INFO flwr 2023-04-28 14:42:25,421 | app.py:220 | app_fit: metrics_distributed {}\n",
            "INFO:flwr:app_fit: metrics_distributed {}\n",
            "INFO flwr 2023-04-28 14:42:25,423 | app.py:221 | app_fit: losses_centralized []\n",
            "INFO:flwr:app_fit: losses_centralized []\n",
            "INFO flwr 2023-04-28 14:42:25,426 | app.py:222 | app_fit: metrics_centralized {}\n",
            "INFO:flwr:app_fit: metrics_centralized {}\n"
          ]
        },
        {
          "output_type": "execute_result",
          "data": {
            "text/plain": [
              "History (loss, distributed):\n",
              "\tround 1: 0.716153621673584\n",
              "\tround 2: 0.8664299845695496\n",
              "\tround 3: 0.6774159073829651\n",
              "\tround 4: 0.6892070770263672\n",
              "\tround 5: 0.6919582486152649\n",
              "\tround 6: 0.6932765245437622\n",
              "\tround 7: 0.6943458318710327\n",
              "\tround 8: 0.6971553266048431\n",
              "\tround 9: 0.6932258605957031\n",
              "\tround 10: 0.6928055584430695\n",
              "\tround 11: 0.6901353001594543\n",
              "\tround 12: 0.7150063514709473\n",
              "\tround 13: 0.7018144428730011\n",
              "\tround 14: 0.694442093372345\n",
              "\tround 15: 0.6970476508140564\n",
              "\tround 16: 0.6869297623634338\n",
              "\tround 17: 0.6943231225013733\n",
              "\tround 18: 0.6945726275444031\n",
              "\tround 19: 0.6931465864181519\n",
              "\tround 20: 0.6923280358314514"
            ]
          },
          "metadata": {},
          "execution_count": 8
        }
      ]
    }
  ]
}